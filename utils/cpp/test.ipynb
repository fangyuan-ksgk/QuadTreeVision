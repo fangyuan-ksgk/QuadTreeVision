{
 "cells": [
  {
   "cell_type": "code",
   "execution_count": 1,
   "id": "792ff74e-f13f-4a77-9412-8f27491cb713",
   "metadata": {
    "tags": []
   },
   "outputs": [],
   "source": [
    "import torch\n",
    "import sys\n",
    "conv3d_path = './lltm-extension'\n",
    "sys.path.append(conv3d_path)\n",
    "import lltm_cpp"
   ]
  },
  {
   "cell_type": "code",
   "execution_count": 4,
   "id": "2bcc5731-a6a8-43d5-9d8e-90c8ec3a7241",
   "metadata": {
    "tags": []
   },
   "outputs": [
    {
     "name": "stdout",
     "output_type": "stream",
     "text": [
      "Help on built-in function forward in module lltm_cpp:\n",
      "\n",
      "forward(...) method of builtins.PyCapsule instance\n",
      "    forward(arg0: torch.Tensor, arg1: torch.Tensor, arg2: torch.Tensor, arg3: torch.Tensor, arg4: torch.Tensor) -> List[torch.Tensor]\n",
      "    \n",
      "    LLTM forward\n",
      "\n"
     ]
    }
   ],
   "source": [
    "lltm_cpp.forward\n",
    "help(lltm_cpp.forward)"
   ]
  },
  {
   "cell_type": "code",
   "execution_count": null,
   "id": "c829ffc0-f511-49a7-bae4-2740f55773a3",
   "metadata": {},
   "outputs": [],
   "source": []
  }
 ],
 "metadata": {
  "kernelspec": {
   "display_name": "newVid",
   "language": "python",
   "name": "new_vd"
  },
  "language_info": {
   "codemirror_mode": {
    "name": "ipython",
    "version": 3
   },
   "file_extension": ".py",
   "mimetype": "text/x-python",
   "name": "python",
   "nbconvert_exporter": "python",
   "pygments_lexer": "ipython3",
   "version": "3.8.17"
  }
 },
 "nbformat": 4,
 "nbformat_minor": 5
}
