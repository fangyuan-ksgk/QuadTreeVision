{
 "cells": [
  {
   "cell_type": "code",
   "execution_count": 2,
   "id": "28bd12ec-55aa-4725-be5f-3611a3576591",
   "metadata": {
    "tags": []
   },
   "outputs": [],
   "source": [
    "import torch\n",
    "import torch.utils.cpp_extension as cpp_ext\n",
    "\n",
    "my_conv_extension = cpp_ext.load(name='my_conv_extension', sources=[cuda_code])\n"
   ]
  },
  {
   "cell_type": "markdown",
   "id": "ae0d44e8-6af3-430f-9ae0-50de701e6b86",
   "metadata": {},
   "source": [
    "Tutorial: https://pytorch.org/tutorials/advanced/cpp_extension.html#cuda"
   ]
  },
  {
   "cell_type": "code",
   "execution_count": null,
   "id": "96a128db-2266-4577-9b18-ec3d51421247",
   "metadata": {},
   "outputs": [],
   "source": [
    "from setuptools import setup\n",
    "from torch.utils.cpp_extension import CUDAExtension, BuildExtension\n",
    "\n",
    "setup(\n",
    "    name='my_custom_conv',\n",
    "    ext_modules=[\n",
    "        CUDAExtension('my_custom_conv', ['my_custom_conv.cpp']),\n",
    "    ],\n",
    "    cmdclass={\n",
    "        'build_ext': BuildExtension\n",
    "    },\n",
    ")\n",
    "# Gives a bunch of error here "
   ]
  }
 ],
 "metadata": {
  "kernelspec": {
   "display_name": "vid_comp",
   "language": "python",
   "name": "vid_comp"
  },
  "language_info": {
   "codemirror_mode": {
    "name": "ipython",
    "version": 3
   },
   "file_extension": ".py",
   "mimetype": "text/x-python",
   "name": "python",
   "nbconvert_exporter": "python",
   "pygments_lexer": "ipython3",
   "version": "3.8.17"
  }
 },
 "nbformat": 4,
 "nbformat_minor": 5
}
