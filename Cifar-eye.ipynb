{
 "cells": [
  {
   "cell_type": "code",
   "execution_count": 2,
   "id": "757caf73-26e1-4d6a-a857-e76574db9a48",
   "metadata": {
    "tags": []
   },
   "outputs": [],
   "source": [
    "# Build EyeNet on CIFAR10\n",
    "# Torch Tensor Versioplotf CompressNode\n",
    "import sys\n",
    "conv3d_path = '/mnt/d/Implementation/VD/3DConv/utils'\n",
    "sys.path.append(conv3d_path)\n",
    "# QuadTree Img Compression Package\n",
    "from quadtree import *\n",
    "from model_idea import *\n",
    "from experiment_model import *\n",
    "from mid_select_test import *\n",
    "from high_selection_experiment import *"
   ]
  },
  {
   "cell_type": "code",
   "execution_count": 30,
   "id": "60a595b8-1ff5-437f-811d-c795fad1334a",
   "metadata": {
    "tags": []
   },
   "outputs": [],
   "source": [
    "# SetUp Test Script Environment -- We are running Experiments for now\n",
    "# 1st Round: Supervise Accuracy Only -- Does it gets to the same level?\n",
    "# 2nd Round: What level of cost reduction is possible here?\n",
    "# 3rd Round: Goes to other tasks here ...\n",
    "\n",
    "# How to argue for the improvement?\n",
    "# Only if we achieve cost reduction here !! \n",
    "# Using Full features v.s. Using less features"
   ]
  },
  {
   "cell_type": "code",
   "execution_count": 3,
   "id": "05b09920-38aa-46c9-b4c4-681c97f05be1",
   "metadata": {
    "tags": []
   },
   "outputs": [],
   "source": [
    "import json\n",
    "\n",
    "# read n visualize\n",
    "def read_model(config_no):\n",
    "    config_path = '/mnt/d/Implementation/VD/3DConv/config'\n",
    "    config_names = ['r1_acc_loss_compare_4layer_eyemix',\n",
    "                 'r1_acc_loss_compare_4layer_convmix',\n",
    "                 'r1_acc_loss_compare_3layer_convmix',\n",
    "                 'r1_acc_loss_compare_3layer_eyemix',\n",
    "                 'r1_acc_loss_compare_2layer_eyemix',\n",
    "                 'r1_acc_loss_compare_2layer_convmix',\n",
    "                 'r1_acc_loss_compare_1layer_convmix',\n",
    "                 'r1_acc_loss_compare_1layer_eyemix']\n",
    "    config_name = config_names[config_no]\n",
    "    print('Preparing with Config: ', config_name)\n",
    "    config_file = f'{config_path}/{config_name}.json'\n",
    "    args = read_args(config_file)\n",
    "\n",
    "    # Read CIFAR10 dataset\n",
    "    trainset, testset, trainloader, testloader = prepare_cifar10(args)\n",
    "\n",
    "    if not args.eyemix:\n",
    "        model = ConvMixer(dim=args.pconv_feature_dim,\n",
    "                        depth=args.mixer_depth,\n",
    "                        kernel_size=args.mixer_kernel_size,\n",
    "                        patch_size=args.pconv_patch_size,\n",
    "                        n_classes=args.num_classes)\n",
    "    else:\n",
    "        model = EyeMixer(args)\n",
    "        \n",
    "    # Load checkpoint\n",
    "    checkpoint_path = f'{config_path}/{config_name}_{args.epochs-1}.pth'\n",
    "    ckpt = torch.load(checkpoint_path)\n",
    "    model.load_state_dict(ckpt['model_state_dict'])\n",
    "    # Load training logs\n",
    "    json_file = f'{config_path}/{config_name}_train_info.json'\n",
    "    # Open the .json file for reading\n",
    "    with open(json_file, 'r') as info_file:\n",
    "        info = json.load(info_file)\n",
    "        \n",
    "    plt.plot(info['epochs'], info['train_acc'])\n",
    "    plt.xlabel('Epochs')\n",
    "    plt.ylabel('Train-Accuracy')\n",
    "    return model, info, testset, args"
   ]
  },
  {
   "cell_type": "code",
   "execution_count": 5,
   "id": "165dcbc0-dcb7-4d32-9d74-d8b6c182f878",
   "metadata": {
    "tags": []
   },
   "outputs": [
    {
     "name": "stdout",
     "output_type": "stream",
     "text": [
      "Preparing with Config:  r1_acc_loss_compare_4layer_eyemix\n",
      "Files already downloaded and verified\n",
      "Files already downloaded and verified\n"
     ]
    },
    {
     "data": {
      "image/png": "[encoded data removed]",
      "text/plain": [
       "<Figure size 640x480 with 1 Axes>"
      ]
     },
     "metadata": {},
     "output_type": "display_data"
    }
   ],
   "source": [
    "model, info, testset, args = read_model(0)"
   ]
  },
  {
   "cell_type": "code",
   "execution_count": null,
   "id": "18057fd2-646b-4a10-a2a7-93e6051178a0",
   "metadata": {},
   "outputs": [],
   "source": []
  },
  {
   "cell_type": "code",
   "execution_count": null,
   "id": "58761336-0cc8-4ad0-9051-0b826d0fe990",
   "metadata": {},
   "outputs": [],
   "source": []
  },
  {
   "cell_type": "code",
   "execution_count": 29,
   "id": "254e4cbd-e665-410e-bbf2-5d6c719a9736",
   "metadata": {
    "tags": []
   },
   "outputs": [
    {
     "name": "stdout",
     "output_type": "stream",
     "text": [
      "Visualization\n"
     ]
    },
    {
     "data": {
      "text/html": [
       "<table class=\"show_images\" style=\"border-spacing:0px;\"><tr><td style=\"padding:1px;\"><div style=\"display:flex; align-items:left;\">\n",
       "      <div style=\"display:flex; flex-direction:column; align-items:center;\">\n",
       "      <div>feature_0</div><div><img width=\"300\" height=\"300\" style=\"image-rendering:pixelated; object-fit:cover;\" src=\"data:image/png;base64,iVBORw0KGgoAAAANSUhEUgAAAAIAAAACCAIAAAD91JpzAAAAFklEQVR4nGP4//9/UVERAwMDg66uLgAw/gTbhKKYhAAAAABJRU5ErkJggg==\"/></div></div></div></td><td style=\"padding:1px;\"><div style=\"display:flex; align-items:left;\">\n",
       "      <div style=\"display:flex; flex-direction:column; align-items:center;\">\n",
       "      <div>residual_0</div><div><img width=\"300\" height=\"300\" style=\"image-rendering:pixelated; object-fit:cover;\" src=\"data:image/png;base64,iVBORw0KGgoAAAANSUhEUgAAAAIAAAACCAIAAAD91JpzAAAAFklEQVR4nGP4//9/UVERAwMDg66uLgAw/gTbhKKYhAAAAABJRU5ErkJggg==\"/></div></div></div></td><td style=\"padding:1px;\"><div style=\"display:flex; align-items:left;\">\n",
       "      <div style=\"display:flex; flex-direction:column; align-items:center;\">\n",
       "      <div>bird</div><div><img width=\"300\" height=\"300\" style=\"image-rendering:pixelated; object-fit:cover;\" src=\"data:image/png;base64,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\"/></div></div></div></td></tr></table>"
      ],
      "text/plain": [
       "<IPython.core.display.HTML object>"
      ]
     },
     "metadata": {},
     "output_type": "display_data"
    },
    {
     "data": {
      "text/html": [
       "<table class=\"show_images\" style=\"border-spacing:0px;\"><tr><td style=\"padding:1px;\"><div style=\"display:flex; align-items:left;\">\n",
       "      <div style=\"display:flex; flex-direction:column; align-items:center;\">\n",
       "      <div>feature_1</div><div><img width=\"300\" height=\"300\" style=\"image-rendering:pixelated; object-fit:cover;\" src=\"data:image/png;base64,iVBORw0KGgoAAAANSUhEUgAAAAQAAAAECAIAAAAmkwkpAAAAOklEQVR4nAXBMQ0AQQgEwP3kbOCDhKAEr/igoSMooN6fQWaSdHcAr6rurrsj4jMzACJiZm9mdpekqv6vMRnPilFpsQAAAABJRU5ErkJggg==\"/></div></div></div></td><td style=\"padding:1px;\"><div style=\"display:flex; align-items:left;\">\n",
       "      <div style=\"display:flex; flex-direction:column; align-items:center;\">\n",
       "      <div>mask_1</div><div><img width=\"300\" height=\"300\" style=\"image-rendering:pixelated; object-fit:cover;\" src=\"data:image/png;base64,iVBORw0KGgoAAAANSUhEUgAAAAEAAAABCAIAAACQd1PeAAAADElEQVR4nGP4//8/AAX+Av4N70a4AAAAAElFTkSuQmCC\"/></div></div></div></td><td style=\"padding:1px;\"><div style=\"display:flex; align-items:left;\">\n",
       "      <div style=\"display:flex; flex-direction:column; align-items:center;\">\n",
       "      <div>prob_1</div><div><img width=\"300\" height=\"300\" style=\"image-rendering:pixelated; object-fit:cover;\" src=\"data:image/png;base64,iVBORw0KGgoAAAANSUhEUgAAAAEAAAABCAIAAACQd1PeAAAADElEQVR4nGO4efMmAAUaAoy1sJipAAAAAElFTkSuQmCC\"/></div></div></div></td><td style=\"padding:1px;\"><div style=\"display:flex; align-items:left;\">\n",
       "      <div style=\"display:flex; flex-direction:column; align-items:center;\">\n",
       "      <div>residual_1</div><div><img width=\"300\" height=\"300\" style=\"image-rendering:pixelated; object-fit:cover;\" src=\"data:image/png;base64,iVBORw0KGgoAAAANSUhEUgAAAAQAAAAECAIAAAAmkwkpAAAAOklEQVR4nAXBsREAQQQAQPeREqRyOf3HRHowI9ACv/uY2cwQ0d0fABCRiKgqzMzMRMTdfd2dmVW1uz/e7RrPJ3P68QAAAABJRU5ErkJggg==\"/></div></div></div></td><td style=\"padding:1px;\"><div style=\"display:flex; align-items:left;\">\n",
       "      <div style=\"display:flex; flex-direction:column; align-items:center;\">\n",
       "      <div>bird</div><div><img width=\"300\" height=\"300\" style=\"image-rendering:pixelated; object-fit:cover;\" src=\"data:image/png;base64,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\"/></div></div></div></td></tr></table>"
      ],
      "text/plain": [
       "<IPython.core.display.HTML object>"
      ]
     },
     "metadata": {},
     "output_type": "display_data"
    },
    {
     "data": {
      "text/html": [
       "<table class=\"show_images\" style=\"border-spacing:0px;\"><tr><td style=\"padding:1px;\"><div style=\"display:flex; align-items:left;\">\n",
       "      <div style=\"display:flex; flex-direction:column; align-items:center;\">\n",
       "      <div>feature_2</div><div><img width=\"300\" height=\"300\" style=\"image-rendering:pixelated; object-fit:cover;\" src=\"data:image/png;base64,iVBORw0KGgoAAAANSUhEUgAAAAgAAAAICAIAAABLbSncAAAAvklEQVR4nAXBMQtGQBgA4K4T+tIl3cpwlKRsN1kkmYz+JqNNKZPJP2BGUlJeHd33PChNUynl7/fLsqyu62ma1nXlnCtxHC/LQinVdZ0xhjHO8zyKIlQUheM4bdvu+x4EgWEYTdNUVaW873ueJyEEIdT3ve/7XdcRQhDn/Hke13WHYRBCbNuWJElZligMQ4yxEAIAjuMAAE3TVFVVAOC6Lkrpfd+UUgD4vs+yLIUxNo7jPM9CCNu2TdOUUnqe9wdktF3zEn+iuAAAAABJRU5ErkJggg==\"/></div></div></div></td><td style=\"padding:1px;\"><div style=\"display:flex; align-items:left;\">\n",
       "      <div style=\"display:flex; flex-direction:column; align-items:center;\">\n",
       "      <div>mask_2</div><div><img width=\"300\" height=\"300\" style=\"image-rendering:pixelated; object-fit:cover;\" src=\"data:image/png;base64,iVBORw0KGgoAAAANSUhEUgAAAAIAAAACCAIAAAD91JpzAAAAFklEQVR4nGP8//8/AwMDEwMDAwMDAwAkBgMB/DXemwAAAABJRU5ErkJggg==\"/></div></div></div></td><td style=\"padding:1px;\"><div style=\"display:flex; align-items:left;\">\n",
       "      <div style=\"display:flex; flex-direction:column; align-items:center;\">\n",
       "      <div>prob_2</div><div><img width=\"300\" height=\"300\" style=\"image-rendering:pixelated; object-fit:cover;\" src=\"data:image/png;base64,iVBORw0KGgoAAAANSUhEUgAAAAIAAAACCAIAAAD91JpzAAAAFklEQVR4nGO8ePEiAwMDExMT0+/fvwEjjgVu3LxUcgAAAABJRU5ErkJggg==\"/></div></div></div></td><td style=\"padding:1px;\"><div style=\"display:flex; align-items:left;\">\n",
       "      <div style=\"display:flex; flex-direction:column; align-items:center;\">\n",
       "      <div>residual_2</div><div><img width=\"300\" height=\"300\" style=\"image-rendering:pixelated; object-fit:cover;\" src=\"data:image/png;base64,iVBORw0KGgoAAAANSUhEUgAAAAgAAAAICAIAAABLbSncAAAAwUlEQVR4nAXBwQpGMAAA4GYjJczFiWIppSSl1H+TR/BG3sEDqZ2cnB3kNHJSlA3xfx+Iouh9X855WZaMsXEc7/vOsgz9fr9lWSRJUlXV930IYZqmcRxLwzCYpkkpbZpmnmfLsuq6hhCi53n2fdd1HQBAKQ3DsG1bwzBAURRCCEJI13XHcazrmiRJVVUgz3OE0HVdQgjGGOf8PE9FUaTv+7ZtwxjLsuy6ruM4mqbZto0IIX3fT9N03zchxPM8jHEQBH9GFVkS0ZgXagAAAABJRU5ErkJggg==\"/></div></div></div></td><td style=\"padding:1px;\"><div style=\"display:flex; align-items:left;\">\n",
       "      <div style=\"display:flex; flex-direction:column; align-items:center;\">\n",
       "      <div>bird</div><div><img width=\"300\" height=\"300\" style=\"image-rendering:pixelated; object-fit:cover;\" src=\"data:image/png;base64,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\"/></div></div></div></td></tr></table>"
      ],
      "text/plain": [
       "<IPython.core.display.HTML object>"
      ]
     },
     "metadata": {},
     "output_type": "display_data"
    },
    {
     "data": {
      "text/html": [
       "<table class=\"show_images\" style=\"border-spacing:0px;\"><tr><td style=\"padding:1px;\"><div style=\"display:flex; align-items:left;\">\n",
       "      <div style=\"display:flex; flex-direction:column; align-items:center;\">\n",
       "      <div>feature_3</div><div><img width=\"300\" height=\"300\" style=\"image-rendering:pixelated; object-fit:cover;\" src=\"data:image/png;base64,iVBORw0KGgoAAAANSUhEUgAAABAAAAAQCAIAAACQkWg2AAACnklEQVR4nCWSO0vDUACF721umptX8zCgVk3RxegUcHbUQRBFcOvWX+PfcHNwEydH3SzoYjUVFJsiNtiad5p7b+LQ+RwOH5wPbm5uUkohhLIsdzodVVW3trZms5nneTzPJ0lSlmUURZZliaL48PCAZFlGCCmKoqqqYRgcxzHG1tbWwjDkeb6ua0EQMMaMMVVVT09PEaXUtm1FURqNhq7riqIAAKbTKcdxpmlyHCeKIgCgruvDw8OqqpBt24ZhJElCKRVFUZKk0Wjkum6n02GMLS8vz+fzoijOz89vb2/v7+8bWZYRQiRJchxnOBze3d0Nh8Pr6+s4jsMwNAwjy7KLiwtBEF5eXhzHgQcHB+vr66urq/1+3/f9KIowxgAARVEwxt1ut91uO45zeXk5mUwYY/Dk5IRSurGxgRBK05QQwhh7f3//+PhQVbXVavV6Pd/3l5aWgiAYj8ew2+0yxjDGpmk+Pj7+/v5SSmVZTtMUAIAQIoQcHx8TQoIgWFlZgUdHR5ZlYYzzPLdt+/n5eTAYLCZ4nv/7+2OMGYbB8/ze3t54PEaLtq7rpmkOBoOiKCilAABCSFVVlFKO46qqStPU931N01Cn01lkcRxDCKfTaV3XdV0XRQEAyPN8Pp/HcVxV1YIWPT09ybIcBMFoNMrzXFVVQRCiKMrzvNFoJEnS6/Xe3t4EQfj+/n59fUUYY8/zvr6+yrLked6yrMlkommaLMuLg6+urvI8L8tSFMV2uw0lSYIQAgAYY6IoYoyjKBIEYX9/v9/v53meJEmr1cqybHt7++zsDJqmWZYlIaSuawCAJElVVUEILcva2dlxXffz89PzvNlsVtd1kiRwYWsYhgslCSE8zzebzWazqWkaQmh3d/fn58d1XV3Xb25u/gFMGXgR8q8gNAAAAABJRU5ErkJggg==\"/></div></div></div></td><td style=\"padding:1px;\"><div style=\"display:flex; align-items:left;\">\n",
       "      <div style=\"display:flex; flex-direction:column; align-items:center;\">\n",
       "      <div>mask_3</div><div><img width=\"300\" height=\"300\" style=\"image-rendering:pixelated; object-fit:cover;\" src=\"data:image/png;base64,iVBORw0KGgoAAAANSUhEUgAAAAQAAAAECAIAAAAmkwkpAAAAFElEQVR4nGP8//8/AwwwMSAB3BwAlm4DBfIlvvkAAAAASUVORK5CYII=\"/></div></div></div></td><td style=\"padding:1px;\"><div style=\"display:flex; align-items:left;\">\n",
       "      <div style=\"display:flex; flex-direction:column; align-items:center;\">\n",
       "      <div>prob_3</div><div><img width=\"300\" height=\"300\" style=\"image-rendering:pixelated; object-fit:cover;\" src=\"data:image/png;base64,iVBORw0KGgoAAAANSUhEUgAAAAQAAAAECAIAAAAmkwkpAAAALUlEQVR4nC3HsRHAAAjEMDsX2H8sZqLg00SdnJmqAtS3u4E/qrq7d/eoQJIkH/PVDnYeacL7AAAAAElFTkSuQmCC\"/></div></div></div></td><td style=\"padding:1px;\"><div style=\"display:flex; align-items:left;\">\n",
       "      <div style=\"display:flex; flex-direction:column; align-items:center;\">\n",
       "      <div>residual_3</div><div><img width=\"300\" height=\"300\" style=\"image-rendering:pixelated; object-fit:cover;\" src=\"data:image/png;base64,iVBORw0KGgoAAAANSUhEUgAAABAAAAAQCAIAAACQkWg2AAACt0lEQVR4nDWRPUvzUABGc2/SNM1NY5M0rbSmWhHMIGInoY7FxUF/gj/ASRyE4uDkoqu/QkdFEVdxECIoorQIEfyokDapMb3JzU3zDvKe/eHAc0C9XieEQAgnJibm5+c1TRNFsdfrYYyz2SyEEGMchqFhGJ7nnZ6egqWlJZ7n1f9wHEcp1TTN8zxBEDzPI4TwPE8phRDm83kgimKj0TAMg2VZWZZVVXVdF2PMMIxhGHEcS5Lkum6apmtra5RSbmFhoVwuY4yjKAIAyLL89PTUarVM06SUCoKAMWZZdnd3d39//+TkBCKEdF1HCC0vL0dRZFmWqqoPDw8AgPF4XCwWHcfZ2to6Ozs7Pz83TROsr6+bpqmq6tXVFaXUcRxd1wEAhBBJktrt9tzc3PPz897eXj6fT5IEbG5uEkJqtVomk8lkMoQQlmUty/r6+lIUJU3To6Ojg4ODarX68fHR6XTA9vZ2HMcAgMnJScuy3t/f/y7OZrNpmg6HwyiKKpVKGIafn5/1eh0Oh0NFUWZmZiilq6urtVoNANDv933fp5QyDMOy7Ovr62AwmJ2d7XQ63NTUFEKoXC5XKpWLi4sgCAghDMNEUZSmaRzHHMeNx2PXdX3fLxaLXKPRiKIojuN+v18qlb6/v+M4TtP0bxMEwWg04jguSZIkSWzb5q6vrwuFgm3bLy8vGGNFUXK5nOM4vu+zLPv7+3t4eHhzc5PL5brd7u3tLVcoFO7v77vdbhRFlNJqtWrb9l/KP0m73R6NRmEYQginp6eBoigQQp7nkyQBAEiSFAQBQmhjY+Py8hJj7Hmerus/Pz+Li4s7OztAFMUwDDVNS9OU53lZlhmGgRACAJrNZrPZfHx8vLu76/V6juO4rgsAAH/JEEIQwjAMEUKCIAwGg1KpRCldWVl5e3trtVosyx4fH/8DRhlyZo4dtZwAAAAASUVORK5CYII=\"/></div></div></div></td><td style=\"padding:1px;\"><div style=\"display:flex; align-items:left;\">\n",
       "      <div style=\"display:flex; flex-direction:column; align-items:center;\">\n",
       "      <div>bird</div><div><img width=\"300\" height=\"300\" style=\"image-rendering:pixelated; object-fit:cover;\" src=\"data:image/png;base64,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\"/></div></div></div></td></tr></table>"
      ],
      "text/plain": [
       "<IPython.core.display.HTML object>"
      ]
     },
     "metadata": {},
     "output_type": "display_data"
    }
   ],
   "source": [
    "# Visualization\n",
    "print('Visualization')\n",
    "\n",
    "idx = np.random.choice(len(testset))\n",
    "ch_idx = np.random.choice(args.pconv_feature_dim)\n",
    "img, label = testset[idx]\n",
    "res = model(img.unsqueeze(0))\n",
    "for layer in range(args.num_layer):\n",
    "    if layer==0:\n",
    "        d = {f'feature_{layer}': normalize(res[f'feature_{layer}'][0][ch_idx]).cpu().detach().numpy(),\n",
    "         # f'mask_{layer}': res[f'mask_{layer}'][0].squeeze(0).cpu().detach().numpy(),\n",
    "         # f'prob_{layer}': res[f'prob_{layer}'][0].squeeze(0).cpu().detach().numpy(),\n",
    "         f'residual_{layer}': normalize(res[f'residual_{layer}'][0][ch_idx]).squeeze().cpu().detach().numpy(),\n",
    "         f'{cifar10_label_to_name[label]}': img.permute(1,2,0)\n",
    "        }\n",
    "    else:\n",
    "        d = {f'feature_{layer}': normalize(res[f'feature_{layer}'][0][ch_idx]).cpu().detach().numpy(),\n",
    "             f'mask_{layer}': res[f'mask_{layer}'][0].squeeze(0).cpu().detach().numpy(),\n",
    "             f'prob_{layer}': res[f'prob_{layer}'][0].squeeze(0).cpu().detach().numpy(),\n",
    "             f'residual_{layer}': normalize(res[f'residual_{layer}'][0][ch_idx]).squeeze().cpu().detach().numpy(),\n",
    "             f'{cifar10_label_to_name[label]}': img.permute(1,2,0)\n",
    "            }\n",
    "    media.show_images(d, height=300, vmin=0., vmax=1.)"
   ]
  },
  {
   "cell_type": "markdown",
   "id": "ad515f9e-47bb-4e55-bae7-eb81e6a95ee6",
   "metadata": {},
   "source": [
    "PatchConv Structural Debate:\n",
    "\n",
    "* Currently We uses concatenation:\n",
    "--- Costly with extra dimension in channels. This is not aligned with the FPN upsmaple layer, which upsample the prev layers' coarser feature prediction, "
   ]
  },
  {
   "cell_type": "code",
   "execution_count": null,
   "id": "01bef656-4588-4b1a-bb57-b3e7f31e6326",
   "metadata": {},
   "outputs": [],
   "source": [
    "class PatchConv(nn.Module):\n",
    "    def __init__(self, feat_h, feat_w, dim_patch_feature=256, patch_size=2, residual=False, patchscale_h=1, patchscale_w=1, mode=1):\n",
    "        super(PatchConv, self).__init__()\n",
    "        self.residual = residual\n",
    "        \n",
    "        # Residual Connection & Feature Prediction\n",
    "        if mode == 1:\n",
    "            self.layer = self._make_residual_layer(residual, \n",
    "                                              dim_patch_feature,\n",
    "                                              patch_size, \n",
    "                                              feat_h, feat_w)\n",
    "        if mode == 2:\n",
    "            self.layer = self._make_residual_layer2(residual,\n",
    "                                                    dim_patch_feature,\n",
    "                                                    patch_size)\n",
    "    \n",
    "    def _make_residual_layer(self, residual, dim_patch_feature, patch_size, feat_h, feat_w):\n",
    "        if residual:\n",
    "            layers = [\n",
    "                nn.Conv2d(3 + dim_patch_feature, 3, 1),\n",
    "                nn.Conv2d(3, dim_patch_feature, kernel_size=patch_size, stride=patch_size),\n",
    "                nn.GELU(),\n",
    "                GRN(feat_h, feat_w)\n",
    "            ]\n",
    "\n",
    "        else:\n",
    "            layers = [\n",
    "                nn.Conv2d(3, dim_patch_feature, kernel_size=patch_size, stride=patch_size),\n",
    "                nn.GELU(),\n",
    "                GRN(feat_h, feat_w)\n",
    "            ]\n",
    "        return nn.Sequential(*layers)\n",
    "    \n",
    "    # when residual=False, this is equivalent with ConvNet patch convolution sec\n",
    "    def _make_residual_layer2(self, residual, dim_patch_feature, patch_size):\n",
    "        hidden_dim = 3\n",
    "        if residual:\n",
    "            layers = [\n",
    "                nn.Conv2d(3 + dim_patch_feature, hidden_dim, kernel_size=patch_size, stride=patch_size),\n",
    "                nn.Conv2d(hidden_dim, dim_patch_feature, kernel_size=patch_size, stride=patch_size),\n",
    "                nn.GELU(),\n",
    "                nn.BatchNorm2d(dim_patch_feature)\n",
    "            ]\n",
    "        else:\n",
    "            layers = [\n",
    "                nn.Conv2d(3, dim_patch_feature, kernel_size=patch_size, stride=patch_size),\n",
    "                nn.GELU(),\n",
    "                nn.BatchNorm2d(dim_patch_feature)\n",
    "            ]\n",
    "        return nn.Sequential(*layers)\n",
    "\n",
    "    def forward(self, x, feat=None):\n",
    "        assert (feat is None) != self.residual\n",
    "        \n",
    "        if x.dim() == 3:\n",
    "            x = x.unsqueeze(0)  # Add a batch dimension of size 1\n",
    "        \n",
    "        if self.residual:    \n",
    "            upsampled_feat = F.interpolate(feat, size=(x.shape[2], x.shape[3]), mode='bilinear', align_corners=False)\n",
    "            x = torch.cat((x, upsampled_feat), dim=1)\n",
    "        \n",
    "        residual = self.layer(x)\n",
    "                \n",
    "        return residual"
   ]
  },
  {
   "cell_type": "code",
   "execution_count": 107,
   "id": "97d8f79b-008a-49ce-9bc8-44bb755ea549",
   "metadata": {
    "tags": []
   },
   "outputs": [
    {
     "name": "stdout",
     "output_type": "stream",
     "text": [
      "PreAug Low channel info shape:  torch.Size([1, 3, 32, 32])\n",
      "PostAug Low channel info shape:  torch.Size([1, 8, 32, 32])\n",
      "PreAug LowSpatial Info shape:  torch.Size([1, 8, 4, 4])\n",
      "PostAug LowSpatial Info shape:  torch.Size([1, 8, 16, 16])\n"
     ]
    },
    {
     "ename": "RuntimeError",
     "evalue": "The size of tensor a (32) must match the size of tensor b (16) at non-singleton dimension 3",
     "output_type": "error",
     "traceback": [
      "\u001b[0;31m---------------------------------------------------------------------------\u001b[0m",
      "\u001b[0;31mRuntimeError\u001b[0m                              Traceback (most recent call last)",
      "Cell \u001b[0;32mIn[107], line 17\u001b[0m\n\u001b[1;32m     15\u001b[0m f2 \u001b[38;5;241m=\u001b[39m p1(f1)\n\u001b[1;32m     16\u001b[0m f3 \u001b[38;5;241m=\u001b[39m p2(f2)\n\u001b[0;32m---> 17\u001b[0m f2_ \u001b[38;5;241m=\u001b[39m \u001b[43mpinv2\u001b[49m\u001b[43m(\u001b[49m\u001b[43mf0\u001b[49m\u001b[43m,\u001b[49m\u001b[43m \u001b[49m\u001b[43mf3\u001b[49m\u001b[43m)\u001b[49m\n\u001b[1;32m     18\u001b[0m f1_ \u001b[38;5;241m=\u001b[39m pinv1(f0, f2_)\n",
      "File \u001b[0;32m~/miniconda3/envs/new_vd/lib/python3.8/site-packages/torch/nn/modules/module.py:1518\u001b[0m, in \u001b[0;36mModule._wrapped_call_impl\u001b[0;34m(self, *args, **kwargs)\u001b[0m\n\u001b[1;32m   1516\u001b[0m     \u001b[38;5;28;01mreturn\u001b[39;00m \u001b[38;5;28mself\u001b[39m\u001b[38;5;241m.\u001b[39m_compiled_call_impl(\u001b[38;5;241m*\u001b[39margs, \u001b[38;5;241m*\u001b[39m\u001b[38;5;241m*\u001b[39mkwargs)  \u001b[38;5;66;03m# type: ignore[misc]\u001b[39;00m\n\u001b[1;32m   1517\u001b[0m \u001b[38;5;28;01melse\u001b[39;00m:\n\u001b[0;32m-> 1518\u001b[0m     \u001b[38;5;28;01mreturn\u001b[39;00m \u001b[38;5;28;43mself\u001b[39;49m\u001b[38;5;241;43m.\u001b[39;49m\u001b[43m_call_impl\u001b[49m\u001b[43m(\u001b[49m\u001b[38;5;241;43m*\u001b[39;49m\u001b[43margs\u001b[49m\u001b[43m,\u001b[49m\u001b[43m \u001b[49m\u001b[38;5;241;43m*\u001b[39;49m\u001b[38;5;241;43m*\u001b[39;49m\u001b[43mkwargs\u001b[49m\u001b[43m)\u001b[49m\n",
      "File \u001b[0;32m~/miniconda3/envs/new_vd/lib/python3.8/site-packages/torch/nn/modules/module.py:1527\u001b[0m, in \u001b[0;36mModule._call_impl\u001b[0;34m(self, *args, **kwargs)\u001b[0m\n\u001b[1;32m   1522\u001b[0m \u001b[38;5;66;03m# If we don't have any hooks, we want to skip the rest of the logic in\u001b[39;00m\n\u001b[1;32m   1523\u001b[0m \u001b[38;5;66;03m# this function, and just call forward.\u001b[39;00m\n\u001b[1;32m   1524\u001b[0m \u001b[38;5;28;01mif\u001b[39;00m \u001b[38;5;129;01mnot\u001b[39;00m (\u001b[38;5;28mself\u001b[39m\u001b[38;5;241m.\u001b[39m_backward_hooks \u001b[38;5;129;01mor\u001b[39;00m \u001b[38;5;28mself\u001b[39m\u001b[38;5;241m.\u001b[39m_backward_pre_hooks \u001b[38;5;129;01mor\u001b[39;00m \u001b[38;5;28mself\u001b[39m\u001b[38;5;241m.\u001b[39m_forward_hooks \u001b[38;5;129;01mor\u001b[39;00m \u001b[38;5;28mself\u001b[39m\u001b[38;5;241m.\u001b[39m_forward_pre_hooks\n\u001b[1;32m   1525\u001b[0m         \u001b[38;5;129;01mor\u001b[39;00m _global_backward_pre_hooks \u001b[38;5;129;01mor\u001b[39;00m _global_backward_hooks\n\u001b[1;32m   1526\u001b[0m         \u001b[38;5;129;01mor\u001b[39;00m _global_forward_hooks \u001b[38;5;129;01mor\u001b[39;00m _global_forward_pre_hooks):\n\u001b[0;32m-> 1527\u001b[0m     \u001b[38;5;28;01mreturn\u001b[39;00m \u001b[43mforward_call\u001b[49m\u001b[43m(\u001b[49m\u001b[38;5;241;43m*\u001b[39;49m\u001b[43margs\u001b[49m\u001b[43m,\u001b[49m\u001b[43m \u001b[49m\u001b[38;5;241;43m*\u001b[39;49m\u001b[38;5;241;43m*\u001b[39;49m\u001b[43mkwargs\u001b[49m\u001b[43m)\u001b[49m\n\u001b[1;32m   1529\u001b[0m \u001b[38;5;28;01mtry\u001b[39;00m:\n\u001b[1;32m   1530\u001b[0m     result \u001b[38;5;241m=\u001b[39m \u001b[38;5;28;01mNone\u001b[39;00m\n",
      "Cell \u001b[0;32mIn[105], line 33\u001b[0m, in \u001b[0;36mAugPatchConv2d.forward\u001b[0;34m(self, lc_info, ls_info)\u001b[0m\n\u001b[1;32m     31\u001b[0m     \u001b[38;5;28mprint\u001b[39m(\u001b[38;5;124m'\u001b[39m\u001b[38;5;124mPostAug LowSpatial Info shape: \u001b[39m\u001b[38;5;124m'\u001b[39m, ls_info\u001b[38;5;241m.\u001b[39mshape)\n\u001b[1;32m     32\u001b[0m     \u001b[38;5;66;03m# Merge\u001b[39;00m\n\u001b[0;32m---> 33\u001b[0m     info \u001b[38;5;241m=\u001b[39m \u001b[43mlc_info\u001b[49m\u001b[43m \u001b[49m\u001b[38;5;241;43m+\u001b[39;49m\u001b[43m \u001b[49m\u001b[43mls_info\u001b[49m\n\u001b[1;32m     35\u001b[0m deduction \u001b[38;5;241m=\u001b[39m \u001b[38;5;28mself\u001b[39m\u001b[38;5;241m.\u001b[39mconv(info)\n\u001b[1;32m     36\u001b[0m \u001b[38;5;28;01mreturn\u001b[39;00m deduction\n",
      "\u001b[0;31mRuntimeError\u001b[0m: The size of tensor a (32) must match the size of tensor b (16) at non-singleton dimension 3"
     ]
    }
   ],
   "source": [
    "patch_size = (2,2)\n",
    "Dim = 8\n",
    "p0 = PatchConv2d(3, Dim, patch_size=patch_size)\n",
    "p1 = PatchConv2d(Dim, Dim, patch_size=patch_size)\n",
    "p2 = PatchConv2d(Dim, Dim, patch_size=patch_size)\n",
    "\n",
    "pinv0 = AugPatchConv2d(3, Dim, patch_size=patch_size)\n",
    "pinv1 = AugPatchConv2d(3, Dim, patch_size=patch_size)\n",
    "pinv2 = AugPatchConv2d(3, Dim, patch_size=patch_size)\n",
    "\n",
    "f0 = img.unsqueeze(0)\n",
    "\n",
    "f1 = p0(f0)\n",
    "\n",
    "f2 = p1(f1)\n",
    "f3 = p2(f2)\n",
    "f2_ = pinv2(f0, f3)\n",
    "f1_ = pinv1(f0, f2_)\n"
   ]
  },
  {
   "cell_type": "code",
   "execution_count": 103,
   "id": "b2da7031-0978-40f3-8931-c5b97856c926",
   "metadata": {
    "tags": []
   },
   "outputs": [
    {
     "data": {
      "text/plain": [
       "(torch.Size([1, 3, 32, 32]),\n",
       " torch.Size([1, 8, 16, 16]),\n",
       " torch.Size([1, 8, 8, 8]),\n",
       " torch.Size([1, 8, 4, 4]))"
      ]
     },
     "execution_count": 103,
     "metadata": {},
     "output_type": "execute_result"
    }
   ],
   "source": [
    "f0.shape, f1.shape, f2.shape, f3.shape"
   ]
  },
  {
   "cell_type": "code",
   "execution_count": 106,
   "id": "635b49b1-3b91-4fb5-a56f-2d2c75e300ec",
   "metadata": {
    "tags": []
   },
   "outputs": [
    {
     "ename": "AssertionError",
     "evalue": "Patch Convolution on Low Channel Information gives Low Spatial Resolution",
     "output_type": "error",
     "traceback": [
      "\u001b[0;31m---------------------------------------------------------------------------\u001b[0m",
      "\u001b[0;31mAssertionError\u001b[0m                            Traceback (most recent call last)",
      "Cell \u001b[0;32mIn[106], line 1\u001b[0m\n\u001b[0;32m----> 1\u001b[0m \u001b[43mpinv2\u001b[49m\u001b[43m(\u001b[49m\u001b[43mf0\u001b[49m\u001b[43m,\u001b[49m\u001b[43m \u001b[49m\u001b[43mf3\u001b[49m\u001b[43m)\u001b[49m\n",
      "File \u001b[0;32m~/miniconda3/envs/new_vd/lib/python3.8/site-packages/torch/nn/modules/module.py:1518\u001b[0m, in \u001b[0;36mModule._wrapped_call_impl\u001b[0;34m(self, *args, **kwargs)\u001b[0m\n\u001b[1;32m   1516\u001b[0m     \u001b[38;5;28;01mreturn\u001b[39;00m \u001b[38;5;28mself\u001b[39m\u001b[38;5;241m.\u001b[39m_compiled_call_impl(\u001b[38;5;241m*\u001b[39margs, \u001b[38;5;241m*\u001b[39m\u001b[38;5;241m*\u001b[39mkwargs)  \u001b[38;5;66;03m# type: ignore[misc]\u001b[39;00m\n\u001b[1;32m   1517\u001b[0m \u001b[38;5;28;01melse\u001b[39;00m:\n\u001b[0;32m-> 1518\u001b[0m     \u001b[38;5;28;01mreturn\u001b[39;00m \u001b[38;5;28;43mself\u001b[39;49m\u001b[38;5;241;43m.\u001b[39;49m\u001b[43m_call_impl\u001b[49m\u001b[43m(\u001b[49m\u001b[38;5;241;43m*\u001b[39;49m\u001b[43margs\u001b[49m\u001b[43m,\u001b[49m\u001b[43m \u001b[49m\u001b[38;5;241;43m*\u001b[39;49m\u001b[38;5;241;43m*\u001b[39;49m\u001b[43mkwargs\u001b[49m\u001b[43m)\u001b[49m\n",
      "File \u001b[0;32m~/miniconda3/envs/new_vd/lib/python3.8/site-packages/torch/nn/modules/module.py:1527\u001b[0m, in \u001b[0;36mModule._call_impl\u001b[0;34m(self, *args, **kwargs)\u001b[0m\n\u001b[1;32m   1522\u001b[0m \u001b[38;5;66;03m# If we don't have any hooks, we want to skip the rest of the logic in\u001b[39;00m\n\u001b[1;32m   1523\u001b[0m \u001b[38;5;66;03m# this function, and just call forward.\u001b[39;00m\n\u001b[1;32m   1524\u001b[0m \u001b[38;5;28;01mif\u001b[39;00m \u001b[38;5;129;01mnot\u001b[39;00m (\u001b[38;5;28mself\u001b[39m\u001b[38;5;241m.\u001b[39m_backward_hooks \u001b[38;5;129;01mor\u001b[39;00m \u001b[38;5;28mself\u001b[39m\u001b[38;5;241m.\u001b[39m_backward_pre_hooks \u001b[38;5;129;01mor\u001b[39;00m \u001b[38;5;28mself\u001b[39m\u001b[38;5;241m.\u001b[39m_forward_hooks \u001b[38;5;129;01mor\u001b[39;00m \u001b[38;5;28mself\u001b[39m\u001b[38;5;241m.\u001b[39m_forward_pre_hooks\n\u001b[1;32m   1525\u001b[0m         \u001b[38;5;129;01mor\u001b[39;00m _global_backward_pre_hooks \u001b[38;5;129;01mor\u001b[39;00m _global_backward_hooks\n\u001b[1;32m   1526\u001b[0m         \u001b[38;5;129;01mor\u001b[39;00m _global_forward_hooks \u001b[38;5;129;01mor\u001b[39;00m _global_forward_pre_hooks):\n\u001b[0;32m-> 1527\u001b[0m     \u001b[38;5;28;01mreturn\u001b[39;00m \u001b[43mforward_call\u001b[49m\u001b[43m(\u001b[49m\u001b[38;5;241;43m*\u001b[39;49m\u001b[43margs\u001b[49m\u001b[43m,\u001b[49m\u001b[43m \u001b[49m\u001b[38;5;241;43m*\u001b[39;49m\u001b[38;5;241;43m*\u001b[39;49m\u001b[43mkwargs\u001b[49m\u001b[43m)\u001b[49m\n\u001b[1;32m   1529\u001b[0m \u001b[38;5;28;01mtry\u001b[39;00m:\n\u001b[1;32m   1530\u001b[0m     result \u001b[38;5;241m=\u001b[39m \u001b[38;5;28;01mNone\u001b[39;00m\n",
      "Cell \u001b[0;32mIn[100], line 21\u001b[0m, in \u001b[0;36mAugPatchConv2d.forward\u001b[0;34m(self, lc_info, ls_info)\u001b[0m\n\u001b[1;32m     19\u001b[0m \u001b[38;5;28;01mdef\u001b[39;00m \u001b[38;5;21mforward\u001b[39m(\u001b[38;5;28mself\u001b[39m, lc_info, ls_info\u001b[38;5;241m=\u001b[39m\u001b[38;5;28;01mNone\u001b[39;00m):\n\u001b[1;32m     20\u001b[0m     \u001b[38;5;28;01massert\u001b[39;00m ls_info\u001b[38;5;241m.\u001b[39mshape[\u001b[38;5;241m1\u001b[39m]\u001b[38;5;241m==\u001b[39m\u001b[38;5;28mself\u001b[39m\u001b[38;5;241m.\u001b[39mout_channels, \u001b[38;5;124m'\u001b[39m\u001b[38;5;124mLow Spatial Resolution Information should have High Channel Information\u001b[39m\u001b[38;5;124m'\u001b[39m\n\u001b[0;32m---> 21\u001b[0m     \u001b[38;5;28;01massert\u001b[39;00m ls_info\u001b[38;5;241m.\u001b[39mshape[\u001b[38;5;241m-\u001b[39m\u001b[38;5;241m1\u001b[39m]\u001b[38;5;241m*\u001b[39m\u001b[38;5;28mself\u001b[39m\u001b[38;5;241m.\u001b[39mscale[\u001b[38;5;241m-\u001b[39m\u001b[38;5;241m1\u001b[39m] \u001b[38;5;241m==\u001b[39m lc_info\u001b[38;5;241m.\u001b[39mshape[\u001b[38;5;241m-\u001b[39m\u001b[38;5;241m1\u001b[39m], \u001b[38;5;124m'\u001b[39m\u001b[38;5;124mPatch Convolution on Low Channel Information gives Low Spatial Resolution\u001b[39m\u001b[38;5;124m'\u001b[39m\n\u001b[1;32m     22\u001b[0m     \u001b[38;5;28;01massert\u001b[39;00m ls_info\u001b[38;5;241m.\u001b[39mshape[\u001b[38;5;241m-\u001b[39m\u001b[38;5;241m2\u001b[39m]\u001b[38;5;241m*\u001b[39m\u001b[38;5;28mself\u001b[39m\u001b[38;5;241m.\u001b[39mscale[\u001b[38;5;241m-\u001b[39m\u001b[38;5;241m2\u001b[39m] \u001b[38;5;241m==\u001b[39m lc_info\u001b[38;5;241m.\u001b[39mshape[\u001b[38;5;241m-\u001b[39m\u001b[38;5;241m2\u001b[39m], \u001b[38;5;124m'\u001b[39m\u001b[38;5;124mPatch Convolution on Low Channel Information gives Low Spatial Resolution\u001b[39m\u001b[38;5;124m'\u001b[39m\n\u001b[1;32m     23\u001b[0m     \u001b[38;5;28mprint\u001b[39m(\u001b[38;5;124m'\u001b[39m\u001b[38;5;124mPreAug Low channel info shape: \u001b[39m\u001b[38;5;124m'\u001b[39m, lc_info\u001b[38;5;241m.\u001b[39mshape)\n",
      "\u001b[0;31mAssertionError\u001b[0m: Patch Convolution on Low Channel Information gives Low Spatial Resolution"
     ]
    }
   ],
   "source": [
    "pinv2(f0, f3)"
   ]
  },
  {
   "cell_type": "code",
   "execution_count": 105,
   "id": "426e8cd4-cbd3-41be-b669-1e8406d70dda",
   "metadata": {
    "tags": []
   },
   "outputs": [],
   "source": [
    "class PatchConv2d(nn.Module):\n",
    "    def __init__(self, in_channels, out_channels, patch_size):\n",
    "        super(PatchConv2d, self).__init__()\n",
    "        self.conv = nn.Conv2d(in_channels, out_channels, kernel_size=patch_size, stride=patch_size)\n",
    "    def forward(self, x):\n",
    "        return self.conv(x)\n",
    "    \n",
    "# Inverse Patch-Conv requires extra information\n",
    "# Otherwise Model Can hardly Retrive enough extra information on itself\n",
    "class AugPatchConv2d(nn.Module):\n",
    "    def __init__(self, in_channels, out_channels, patch_size):\n",
    "        super(AugPatchConv2d, self).__init__()\n",
    "        self.out_channels = out_channels\n",
    "        self.aug_channel_info = nn.Conv2d(in_channels, out_channels, kernel_size=1)\n",
    "        self.scale = (int(patch_size[0]**2), int(patch_size[1]**2))\n",
    "        self.aug_spatial_info = lambda x: F.interpolate(x, scale_factor=self.scale, mode='nearest')\n",
    "        self.conv = nn.Conv2d(out_channels, out_channels, kernel_size=patch_size, stride=patch_size)\n",
    "        \n",
    "    def forward(self, lc_info, ls_info=None):\n",
    "        # assert ls_info.shape[1]==self.out_channels, 'Low Spatial Resolution Information should have High Channel Information'\n",
    "        # assert ls_info.shape[-1]*self.scale[-1] == lc_info.shape[-1], 'Patch Convolution on Low Channel Information gives Low Spatial Resolution'\n",
    "        # assert ls_info.shape[-2]*self.scale[-2] == lc_info.shape[-2], 'Patch Convolution on Low Channel Information gives Low Spatial Resolution'\n",
    "        print('PreAug Low channel info shape: ', lc_info.shape)\n",
    "        lc_info = self.aug_channel_info(lc_info)\n",
    "        print('PostAug Low channel info shape: ', lc_info.shape)\n",
    "        if ls_info == None:\n",
    "            info = lc_info\n",
    "        else:\n",
    "            print('PreAug LowSpatial Info shape: ', ls_info.shape)\n",
    "            ls_info = self.aug_spatial_info(ls_info)\n",
    "            print('PostAug LowSpatial Info shape: ', ls_info.shape)\n",
    "            # Merge\n",
    "            info = lc_info + ls_info\n",
    "        \n",
    "        deduction = self.conv(info)\n",
    "        return deduction"
   ]
  },
  {
   "cell_type": "code",
   "execution_count": 38,
   "id": "18f1cdfb-8c27-4f2e-8d22-11ffc0a1a504",
   "metadata": {
    "tags": []
   },
   "outputs": [
    {
     "data": {
      "text/plain": [
       "Namespace(acc_scale=1.0, batch_size=64, clip_norm=False, cost_scale=1.0, epochs=25, eyemix=True, jitter=0.1, lr_max=0.01, min_cost=40.0, mixer_depth=2, mixer_kernel_size=5, name='EyeMixer', num_classes=10, num_layer=4, pconv_feature_dim=32, pconv_mode=1, pconv_patch_scale=[2, 2], pconv_patch_size=[2, 2], penalize_cost=True, preprocess_img_size=[32, 32], ra_m=8, ra_n=1, reprob=0.25, scale=0.75, sparsity_ratio=0.5, subimg_size=[4, 4], use_temperature_schedule=False, wd=0.01, window_size_sma=50, workers=2)"
      ]
     },
     "execution_count": 38,
     "metadata": {},
     "output_type": "execute_result"
    }
   ],
   "source": [
    "# Compare Coarse2Fine with Fine2Coarse ConvNet for direct comparison\n",
    "\n",
    "import torch\n",
    "import torch.nn as nn\n",
    "\n",
    "class BasicBlock(nn.Module):\n",
    "    expansion = 1\n",
    "\n",
    "    def __init__(self, in_planes, planes, stride=1):\n",
    "        super(BasicBlock, self).__init__()\n",
    "        self.conv1 = nn.Conv2d(in_planes, planes, kernel_size=3, stride=stride, padding=1, bias=False)\n",
    "        self.bn1 = nn.BatchNorm2d(planes)\n",
    "        self.conv2 = nn.Conv2d(planes, planes, kernel_size=3, stride=1, padding=1, bias=False)\n",
    "        self.bn2 = nn.BatchNorm2d(planes)\n",
    "\n",
    "        self.shortcut = nn.Sequential()\n",
    "        if stride != 1 or in_planes != self.expansion * planes:\n",
    "            self.shortcut = nn.Sequential(\n",
    "                nn.Conv2d(in_planes, self.expansion * planes, kernel_size=1, stride=stride, bias=False),\n",
    "                nn.BatchNorm2d(self.expansion * planes)\n",
    "            )\n",
    "\n",
    "    def forward(self, x):\n",
    "        out = torch.relu(self.bn1(self.conv1(x)))\n",
    "        out = self.bn2(self.conv2(out))\n",
    "        out += self.shortcut(x)\n",
    "        out = torch.relu(out)\n",
    "        return out\n",
    "\n",
    "class ResNet(nn.Module):\n",
    "    def __init__(self, block, num_blocks, num_classes=10):\n",
    "        super(ResNet, self).__init__()\n",
    "        self.in_planes = 64\n",
    "\n",
    "        self.conv1 = nn.Conv2d(3, 64, kernel_size=3, stride=1, padding=1, bias=False)\n",
    "        self.bn1 = nn.BatchNorm2d(64)\n",
    "        self.layer1 = self._make_layer(block, 64, num_blocks[0], stride=1)\n",
    "        self.layer2 = self._make_layer(block, 128, num_blocks[1], stride=2)\n",
    "        self.layer3 = self._make_layer(block, 256, num_blocks[2], stride=2)\n",
    "        self.layer4 = self._make_layer(block, 512, num_blocks[3], stride=2)\n",
    "        self.linear = nn.Linear(512 * block.expansion, num_classes)\n",
    "\n",
    "    def _make_layer(self, block, planes, num_blocks, stride):\n",
    "        strides = [stride] + [1] * (num_blocks - 1)\n",
    "        layers = []\n",
    "        for stride in strides:\n",
    "            layers.append(block(self.in_planes, planes, stride))\n",
    "            self.in_planes = planes * block.expansion\n",
    "        return nn.Sequential(*layers)\n",
    "\n",
    "    def forward(self, x):\n",
    "        out = torch.relu(self.bn1(self.conv1(x)))\n",
    "        out = self.layer1(out)\n",
    "        out = self.layer2(out)\n",
    "        out = self.layer3(out)\n",
    "        out = self.layer4(out)\n",
    "        out = torch.avg_pool2d(out, 4)\n",
    "        out = out.view(out.size(0), -1)\n",
    "        out = self.linear(out)\n",
    "        return out\n",
    "\n",
    "def ResNet18():\n",
    "    return ResNet(BasicBlock, [2, 2, 2, 2])\n",
    "\n",
    "# Example usage:\n",
    "# model = ResNet18()\n"
   ]
  },
  {
   "cell_type": "code",
   "execution_count": 34,
   "id": "27aed510-74cc-4847-8493-95ee6ec7c128",
   "metadata": {
    "tags": []
   },
   "outputs": [
    {
     "data": {
      "text/plain": [
       "EyeMixer(\n",
       "  (feature_extractor): EyeFeat(\n",
       "    (feature_layer_0): PatchConv(\n",
       "      (layer): Sequential(\n",
       "        (0): Conv2d(3, 32, kernel_size=(2, 2), stride=(2, 2))\n",
       "        (1): GELU(approximate='none')\n",
       "        (2): GRN()\n",
       "      )\n",
       "    )\n",
       "    (mask_layer_0): ConvGate(\n",
       "      (downsample): AvgPool2d(kernel_size=(2, 2), stride=(2, 2), padding=0)\n",
       "      (proj): Conv2d(32, 1, kernel_size=(1, 1), stride=(1, 1))\n",
       "      (prob): Sigmoid()\n",
       "    )\n",
       "    (feature_layer_1): PatchConv(\n",
       "      (layer): Sequential(\n",
       "        (0): Conv2d(35, 3, kernel_size=(1, 1), stride=(1, 1))\n",
       "        (1): Conv2d(3, 32, kernel_size=(2, 2), stride=(2, 2))\n",
       "        (2): GELU(approximate='none')\n",
       "        (3): GRN()\n",
       "      )\n",
       "    )\n",
       "    (mask_layer_1): ConvGate(\n",
       "      (downsample): AvgPool2d(kernel_size=(2, 2), stride=(2, 2), padding=0)\n",
       "      (proj): Conv2d(32, 1, kernel_size=(1, 1), stride=(1, 1))\n",
       "      (prob): Sigmoid()\n",
       "    )\n",
       "    (feature_layer_2): PatchConv(\n",
       "      (layer): Sequential(\n",
       "        (0): Conv2d(35, 3, kernel_size=(1, 1), stride=(1, 1))\n",
       "        (1): Conv2d(3, 32, kernel_size=(2, 2), stride=(2, 2))\n",
       "        (2): GELU(approximate='none')\n",
       "        (3): GRN()\n",
       "      )\n",
       "    )\n",
       "    (mask_layer_2): ConvGate(\n",
       "      (downsample): AvgPool2d(kernel_size=(2, 2), stride=(2, 2), padding=0)\n",
       "      (proj): Conv2d(32, 1, kernel_size=(1, 1), stride=(1, 1))\n",
       "      (prob): Sigmoid()\n",
       "    )\n",
       "    (feature_layer_3): PatchConv(\n",
       "      (layer): Sequential(\n",
       "        (0): Conv2d(35, 3, kernel_size=(1, 1), stride=(1, 1))\n",
       "        (1): Conv2d(3, 32, kernel_size=(2, 2), stride=(2, 2))\n",
       "        (2): GELU(approximate='none')\n",
       "        (3): GRN()\n",
       "      )\n",
       "    )\n",
       "    (mask_layer_3): ConvGate(\n",
       "      (downsample): AvgPool2d(kernel_size=(2, 2), stride=(2, 2), padding=0)\n",
       "      (proj): Conv2d(32, 1, kernel_size=(1, 1), stride=(1, 1))\n",
       "      (prob): Sigmoid()\n",
       "    )\n",
       "  )\n",
       "  (mixer): Sequential(\n",
       "    (0): Sequential(\n",
       "      (0): Residual(\n",
       "        (fn): Sequential(\n",
       "          (0): Conv2d(32, 32, kernel_size=(5, 5), stride=(1, 1), padding=same, groups=32)\n",
       "          (1): GELU(approximate='none')\n",
       "          (2): BatchNorm2d(32, eps=1e-05, momentum=0.1, affine=True, track_running_stats=True)\n",
       "        )\n",
       "      )\n",
       "      (1): Conv2d(32, 32, kernel_size=(1, 1), stride=(1, 1))\n",
       "      (2): GELU(approximate='none')\n",
       "      (3): BatchNorm2d(32, eps=1e-05, momentum=0.1, affine=True, track_running_stats=True)\n",
       "    )\n",
       "    (1): Sequential(\n",
       "      (0): Residual(\n",
       "        (fn): Sequential(\n",
       "          (0): Conv2d(32, 32, kernel_size=(5, 5), stride=(1, 1), padding=same, groups=32)\n",
       "          (1): GELU(approximate='none')\n",
       "          (2): BatchNorm2d(32, eps=1e-05, momentum=0.1, affine=True, track_running_stats=True)\n",
       "        )\n",
       "      )\n",
       "      (1): Conv2d(32, 32, kernel_size=(1, 1), stride=(1, 1))\n",
       "      (2): GELU(approximate='none')\n",
       "      (3): BatchNorm2d(32, eps=1e-05, momentum=0.1, affine=True, track_running_stats=True)\n",
       "    )\n",
       "    (2): AdaptiveAvgPool2d(output_size=(1, 1))\n",
       "    (3): Flatten(start_dim=1, end_dim=-1)\n",
       "    (4): Linear(in_features=32, out_features=10, bias=True)\n",
       "  )\n",
       ")"
      ]
     },
     "execution_count": 34,
     "metadata": {},
     "output_type": "execute_result"
    }
   ],
   "source": [
    "# Feature Extraction from QuadVision\n",
    "class ConvFeat(nn.Module):\n",
    "    def __init__(self, args):\n",
    "        super(ConvFeat, self).__init__()\n",
    "        self.num_layer = args.num_layer\n",
    "        self.subimg_size = args.subimg_size\n",
    "        self.patch_size = args.pconv_patch_size\n",
    "        self.patchscale_h = args.pconv_patch_scale[0]\n",
    "        self.patchscale_w = args.pconv_patch_scale[1]\n",
    "        self.dim_patch_feature = args.pconv_feature_dim\n",
    "        self.mode = 'gumbel'\n",
    "        \n",
    "        self._make_layers(mode=1)\n",
    "              \n",
    "        \n",
    "    def _make_layers(self, mode):\n",
    "        self.subimgs_size = []\n",
    "        # Fine2Coarse Instead -- Conventional Convolution Structure\n",
    "        for layer in range(self.num_layer):\n",
    "            if layer == 0:\n",
    "                # ChannelSize 3->Dim & Spatial Resolution shrink by half\n",
    "                feature_layer = nn.Conv2d(3, self.dim_patch_feature, self.patch_size)\n",
    "            else:\n",
    "                feature_layer = nn.Conv2d(self.dim_patch_feature, self.dim_patch_feature, self.)\n",
    "            setattr(self, f'feature_layer_{layer}')\n",
    "                \n",
    "            \n",
    "        for layer in range(self.num_layer):\n",
    "            subimgs_size = self.subimg_size[0]*2**layer, self.subimg_size[1]*2**layer\n",
    "            self.subimgs_size.append(subimgs_size)\n",
    "            feature_layer = PatchConv(feat_h = subimgs_size[0]//self.patch_size[0],\n",
    "                                  feat_w = subimgs_size[1]//self.patch_size[1],\n",
    "                                  dim_patch_feature = self.dim_patch_feature,\n",
    "                                  residual = (layer!=0),\n",
    "                                  patch_size = self.patch_size,\n",
    "                                  patchscale_h = self.patchscale_h,\n",
    "                                  patchscale_w = self.patchscale_w,\n",
    "                                  mode = mode)\n",
    "            setattr(self, f'feature_layer_{layer}', feature_layer)\n",
    "            \n",
    "            mask_layer = ConvGate(self.patchscale_h, self.patchscale_w,\n",
    "                                  self.dim_patch_feature, self.mode)\n",
    "            setattr(self, f'mask_layer_{layer}', mask_layer)\n",
    "            \n",
    "        self.output_size = subimgs_size[0]//self.patch_size[0], subimgs_size[1]//self.patch_size[1]\n",
    "            \n",
    "    def forward(self, x, temperature = 1.0):\n",
    "        total_forward_time = 0\n",
    "        stat = {}\n",
    "        f,m,p,next_m,next_p,res = None,None,None,None,None,{}\n",
    "        for layer in range(self.num_layer):\n",
    "            \n",
    "            t0 = time.time()\n",
    "            m = ensemble_update(m, next_m, mode='prod')\n",
    "            p = ensemble_update(p, next_p, mode='prod')\n",
    "            subimgs = F.interpolate(x, (self.subimg_size[0]*2**layer, self.subimg_size[1]*2**layer), mode='bilinear', align_corners=True)\n",
    "            \n",
    "            t1 = time.time()\n",
    "            stat[f'Layer {layer} Upsample Time'] = t1-t0\n",
    "            \n",
    "            \n",
    "            # print(f'Layer {layer} | SubImg Size: {subimgs.shape}')\n",
    "            r = getattr(self, f'feature_layer_{layer}')(subimgs, f)\n",
    "            \n",
    "            t2 = time.time()\n",
    "            stat[f'Layer {layer} PatchConvolution Time'] = t2-t1\n",
    "            \n",
    "            \n",
    "            # print(f'-- Residual shape: {r.shape}')\n",
    "            getattr(self, f'mask_layer_{layer}').temperature = temperature\n",
    "            next_m, next_p, next_l = getattr(self, f'mask_layer_{layer}')(r)\n",
    "            \n",
    "            # next_m, next_p, next_l, next_h = self.control(r, h)\n",
    "            t3 = time.time()\n",
    "            stat[f'Layer {layer} Gating Time'] = t3-t2\n",
    "            \n",
    "            f = ensemble_mask_addition(f, r, m)\n",
    "            t4 = time.time()\n",
    "            stat[f'Layer {layer} Ensemble Mask Addition'] = t4-t3\n",
    "            \n",
    "            res[f'feature_{layer}'] = f\n",
    "            res[f'mask_{layer}'] = m # Current Layer's Adpopted Mask get recorded\n",
    "            res[f'prob_{layer}'] = p\n",
    "            res[f'residual_{layer}'] = r\n",
    "            \n",
    "        res['feature'] = f\n",
    "        res['mask'] = m\n",
    "        res['prob'] = p\n",
    "\n",
    "        return res, stat\n",
    "    "
   ]
  },
  {
   "cell_type": "code",
   "execution_count": 2,
   "id": "407ce267-76a8-4c17-a310-0b16b5905275",
   "metadata": {
    "tags": []
   },
   "outputs": [
    {
     "name": "stdout",
     "output_type": "stream",
     "text": [
      "Preparing with Config:  r1_acc_loss_compare_1layer_eyemix\n"
     ]
    }
   ],
   "source": [
    "config_path = '/mnt/d/Implementation/VD/3DConv/config'\n",
    "config_names = ['r1_acc_loss_compare_1layer_eyemix']\n",
    "config_name = config_names[0]\n",
    "print('Preparing with Config: ', config_name)\n",
    "config_file = f'{config_path}/{config_name}.json'\n",
    "args = read_args(config_file)\n",
    "model = EyeMixer(args)"
   ]
  },
  {
   "cell_type": "code",
   "execution_count": 33,
   "id": "f04bc72f-e796-4ef6-9394-9249e68fd728",
   "metadata": {
    "tags": []
   },
   "outputs": [],
   "source": [
    "args.penalize_cost = True"
   ]
  },
  {
   "cell_type": "code",
   "execution_count": 8,
   "id": "48595be6-28b4-4837-bad9-6a2950ecf0ae",
   "metadata": {
    "tags": []
   },
   "outputs": [],
   "source": [
    "efeat = EyeMixer(args).feature_extractor\n",
    "# Bug in the propagation with num_layer = 1 here\n",
    "inp = torch.randn(1,3,32,32)\n"
   ]
  },
  {
   "cell_type": "code",
   "execution_count": 29,
   "id": "3be40b4b-59b5-4a8c-a4d4-6d5001bbc56f",
   "metadata": {
    "tags": []
   },
   "outputs": [],
   "source": [
    "self = efeat\n",
    "x = inp\n",
    "f,m,p,next_m,next_p,res = None,None,None,None,None,{}\n",
    "for layer in range(self.num_layer):\n",
    "    m = ensemble_update(m, next_m, mode='prod')\n",
    "    p = ensemble_update(p, next_p, mode='prod')\n",
    "    subimgs = F.interpolate(x, (self.subimg_size[0]*2**layer, self.subimg_size[1]*2**layer), mode='bilinear', align_corners=True)\n",
    "    r = getattr(self, f'feature_layer_{layer}')(subimgs, f)\n",
    "    \n",
    "    next_m, next_p, next_l = getattr(self, f'mask_layer_{layer}')(r)\n",
    "    \n",
    "    f = ensemble_mask_addition(f, r, m)"
   ]
  },
  {
   "cell_type": "code",
   "execution_count": 24,
   "id": "ad4012bc-72e4-41e7-b9f4-3770cae4ab78",
   "metadata": {
    "tags": []
   },
   "outputs": [
    {
     "data": {
      "text/plain": [
       "<function mid_select_test.ensemble_mask_addition(ensemble, feat, mask)>"
      ]
     },
     "execution_count": 24,
     "metadata": {},
     "output_type": "execute_result"
    }
   ],
   "source": [
    "ensemble_mask_addition"
   ]
  },
  {
   "cell_type": "code",
   "execution_count": 28,
   "id": "0745cb68-84ca-497d-a2d7-fb58233b472a",
   "metadata": {
    "tags": []
   },
   "outputs": [],
   "source": []
  },
  {
   "cell_type": "code",
   "execution_count": 68,
   "id": "cdf74eed-02d6-45ff-8017-8b4251fa1fd9",
   "metadata": {
    "tags": []
   },
   "outputs": [],
   "source": [
    "def parse_eyemixer_args(comm = []):\n",
    "    parser = argparse.ArgumentParser(\n",
    "                        prog='HumanViewer',\n",
    "                        description='Perception like Human -- Learnable Image Perception with QuadTreeNodes',\n",
    "                        epilog='Text at the bottom of help')\n",
    "    \n",
    "    parser.add_argument('--name', type=str, default=\"EyeMixer\")\n",
    "        \n",
    "    parser.add_argument('-num_layer', '--num_layer', default=1, type=int)\n",
    "    parser.add_argument('-imsize', '--preprocess_img_size', default='384,768', type=str)  # Accept as a comma-separated string\n",
    "    parser.add_argument('-pconv_dim', '--pconv_feature_dim', default=3, type=int)\n",
    "    parser.add_argument('-pconv_scale', '--pconv_patch_scale', default='6,12', type=str)  # Accept as a comma-separated string\n",
    "    parser.add_argument('-depth', '--mixer_depth', default=4, type=int)\n",
    "    parser.add_argument('-conv_ks', '--mixer_kernel_size', default=5, type=int)\n",
    "    parser.add_argument('-n_classes', '--num_classes', default=10, type=int)\n",
    "    parser.add_argument('-m', '--pconv_mode', default=1, type=int) # ['ste', 'gumbel'] for Pconv Mode\n",
    "    \n",
    "    parser.add_argument('--wd', default=0.01, type=float)\n",
    "    parser.add_argument('--acc_scale', default=1., type=float)\n",
    "    parser.add_argument('--cost_scale', default=1., type=float)\n",
    "    parser.add_argument('--sparsity_ratio', default=0.5, type=float)\n",
    "    parser.add_argument('--min_cost', default=40., type=float)\n",
    "    parser.add_argument('--window_size_sma', default=50, type=int)\n",
    "    \n",
    "    parser.add_argument('--clip-norm', action='store_true')\n",
    "    parser.add_argument('-bs', '--batch-size', default=128, type=int)\n",
    "    parser.add_argument('--epochs', default=25, type=int)\n",
    "    parser.add_argument('--lr-max', default=0.01, type=float)\n",
    "    parser.add_argument('--workers', default=2, type=int)\n",
    "    parser.add_argument('--scale', default=0.75, type=float)\n",
    "    parser.add_argument('--reprob', default=0.25, type=float)\n",
    "    parser.add_argument('--ra-m', default=8, type=int)\n",
    "    parser.add_argument('--ra-n', default=1, type=int)\n",
    "    parser.add_argument('--jitter', default=0.1, type=float)\n",
    "\n",
    "    args = parser.parse_args(comm)\n",
    "    process_args(args)\n",
    "    \n",
    "    return args"
   ]
  },
  {
   "cell_type": "code",
   "execution_count": 255,
   "id": "924b122d-b7e7-4012-84da-afc5ffed47ea",
   "metadata": {
    "tags": []
   },
   "outputs": [],
   "source": [
    "# json file path\n",
    "config_path = '/mnt/d/Implementation/VD/3DConv/config'\n",
    "import os\n",
    "import glob\n",
    "\n",
    "# smaller num_layer -> faster processing -> less selection\n",
    "config_names = []\n",
    "for num_layer in range(1, 5):\n",
    "    num_layer = 1\n",
    "    pconv_scale = int(2**(5-num_layer))\n",
    "    args = parse_eyemixer_args(['-num_layer', str(num_layer),\n",
    "                                '-pconv_dim', '32',\n",
    "                                '-pconv_scale', f'{pconv_scale},{pconv_scale}',\n",
    "                                '-depth', '2',\n",
    "                                '-imsize', '32, 32',\n",
    "                                '-bs', '64'])\n",
    "\n",
    "    args.eyemix = True\n",
    "    if args.eyemix:\n",
    "        config_name = f'r1_acc_loss_compare_{num_layer}layer_eyemix'\n",
    "    else:\n",
    "        config_name = f'r1_acc_loss_compare_{num_layer}layer_convmix'\n",
    "    args.use_temperature_schedule = False\n",
    "    args.penalize_cost = False\n",
    "    save_args(args, config_path +'/'+ config_name + '.json')\n",
    "\n",
    "    config_names.append(config_name)\n",
    "    \n",
    "    args.eyemix = False\n",
    "    if args.eyemix:\n",
    "        config_name = f'r1_acc_loss_compare_{num_layer}layer_eyemix'\n",
    "    else:\n",
    "        config_name = f'r1_acc_loss_compare_{num_layer}layer_convmix'\n",
    "    args.use_temperature_schedule = False\n",
    "    args.penalize_cost = False\n",
    "    save_args(args, config_path +'/'+ config_name + '.json')\n",
    "\n",
    "    config_names.append(config_name)"
   ]
  },
  {
   "cell_type": "code",
   "execution_count": 258,
   "id": "ae99d1c0-2d2d-4d18-abdc-9ebc563034f1",
   "metadata": {
    "tags": []
   },
   "outputs": [
    {
     "data": {
      "text/plain": [
       "True"
      ]
     },
     "execution_count": 258,
     "metadata": {},
     "output_type": "execute_result"
    }
   ],
   "source": [
    "args.eyemix"
   ]
  },
  {
   "cell_type": "code",
   "execution_count": 179,
   "id": "3d8f9f8c-ad0b-4fb8-89af-fe2c07c3b803",
   "metadata": {
    "tags": []
   },
   "outputs": [],
   "source": [
    "trainset, testset, trainloader, testloader = prepare_cifar10(args)"
   ]
  },
  {
   "cell_type": "code",
   "execution_count": 207,
   "id": "5fad1c3a-22bb-4df8-8e39-9f603790693e",
   "metadata": {
    "tags": []
   },
   "outputs": [
    {
     "data": {
      "text/plain": [
       "Namespace(acc_scale=1.0, batch_size=3, clip_norm=False, convmix=False, cost_scale=1.0, epochs=25, jitter=0.1, lr_max=0.01, min_cost=40.0, mixer_depth=1, mixer_kernel_size=5, name='EyeMixer', num_classes=10, num_layer=3, pconv_feature_dim=64, pconv_mode=1, pconv_patch_scale=(4, 4), pconv_patch_size=(2, 2), penalize_cost=False, preprocess_img_size=(32, 32), ra_m=8, ra_n=1, reprob=0.25, scale=0.75, sparsity_ratio=0.5, subimg_size=(8, 8), use_temperature_schedule=False, wd=0.01, window_size_sma=50, workers=2)"
      ]
     },
     "execution_count": 207,
     "metadata": {},
     "output_type": "execute_result"
    }
   ],
   "source": [
    "args"
   ]
  },
  {
   "cell_type": "code",
   "execution_count": 209,
   "id": "67d65e21-2161-414c-aa3e-8cf92b451133",
   "metadata": {
    "collapsed": true,
    "jupyter": {
     "outputs_hidden": true
    },
    "tags": []
   },
   "outputs": [
    {
     "name": "stdout",
     "output_type": "stream",
     "text": [
      "[EyeMixer] Epoch: 0 | Train Acc: 0.2163, Test Acc: 0.3553, Time: 18.2, lr: 0.001000\n",
      "-- train loss: 105520.03002929688\n",
      "[EyeMixer] Epoch: 1 | Train Acc: 0.3701, Test Acc: 0.4608, Time: 16.2, lr: 0.002000\n",
      "-- train loss: 87049.29829406738\n",
      "[EyeMixer] Epoch: 2 | Train Acc: 0.4427, Test Acc: 0.5233, Time: 16.9, lr: 0.003000\n",
      "-- train loss: 77359.00431060791\n",
      "[EyeMixer] Epoch: 3 | Train Acc: 0.4803, Test Acc: 0.5438, Time: 16.9, lr: 0.004000\n",
      "-- train loss: 73020.03964996338\n",
      "[EyeMixer] Epoch: 4 | Train Acc: 0.4450, Test Acc: 0.5725, Time: 16.3, lr: 0.005000\n",
      "-- train loss: 76814.25588607788\n",
      "[EyeMixer] Epoch: 5 | Train Acc: 0.5350, Test Acc: 0.5935, Time: 17.7, lr: 0.006000\n",
      "-- train loss: 65259.446657180786\n",
      "[EyeMixer] Epoch: 6 | Train Acc: 0.3729, Test Acc: 0.3811, Time: 19.1, lr: 0.007000\n",
      "-- train loss: 85278.92182540894\n"
     ]
    },
    {
     "ename": "KeyboardInterrupt",
     "evalue": "",
     "output_type": "error",
     "traceback": [
      "\u001b[0;31m---------------------------------------------------------------------------\u001b[0m",
      "\u001b[0;31mKeyboardInterrupt\u001b[0m                         Traceback (most recent call last)",
      "Cell \u001b[0;32mIn[209], line 53\u001b[0m\n\u001b[1;32m     50\u001b[0m     loss \u001b[38;5;241m=\u001b[39m criterion\u001b[38;5;241m.\u001b[39mloss_accuracy(output, y)[\u001b[38;5;124mf\u001b[39m\u001b[38;5;124m'\u001b[39m\u001b[38;5;124mloss_acc_\u001b[39m\u001b[38;5;132;01m{\u001b[39;00margs\u001b[38;5;241m.\u001b[39mnum_layer\u001b[38;5;241m-\u001b[39m\u001b[38;5;241m1\u001b[39m\u001b[38;5;132;01m}\u001b[39;00m\u001b[38;5;124m'\u001b[39m]\n\u001b[1;32m     51\u001b[0m     \u001b[38;5;66;03m# loss = criterion(output, y)['total']\u001b[39;00m\n\u001b[0;32m---> 53\u001b[0m \u001b[43mscaler\u001b[49m\u001b[38;5;241;43m.\u001b[39;49m\u001b[43mscale\u001b[49m\u001b[43m(\u001b[49m\u001b[43mloss\u001b[49m\u001b[43m)\u001b[49m\u001b[38;5;241;43m.\u001b[39;49m\u001b[43mbackward\u001b[49m\u001b[43m(\u001b[49m\u001b[43m)\u001b[49m\n\u001b[1;32m     54\u001b[0m \u001b[38;5;28;01mif\u001b[39;00m args\u001b[38;5;241m.\u001b[39mclip_norm:\n\u001b[1;32m     55\u001b[0m     scaler\u001b[38;5;241m.\u001b[39munscale_(opt)\n",
      "File \u001b[0;32m~/miniconda3/envs/new_vd/lib/python3.8/site-packages/torch/_tensor.py:492\u001b[0m, in \u001b[0;36mTensor.backward\u001b[0;34m(self, gradient, retain_graph, create_graph, inputs)\u001b[0m\n\u001b[1;32m    482\u001b[0m \u001b[38;5;28;01mif\u001b[39;00m has_torch_function_unary(\u001b[38;5;28mself\u001b[39m):\n\u001b[1;32m    483\u001b[0m     \u001b[38;5;28;01mreturn\u001b[39;00m handle_torch_function(\n\u001b[1;32m    484\u001b[0m         Tensor\u001b[38;5;241m.\u001b[39mbackward,\n\u001b[1;32m    485\u001b[0m         (\u001b[38;5;28mself\u001b[39m,),\n\u001b[0;32m   (...)\u001b[0m\n\u001b[1;32m    490\u001b[0m         inputs\u001b[38;5;241m=\u001b[39minputs,\n\u001b[1;32m    491\u001b[0m     )\n\u001b[0;32m--> 492\u001b[0m \u001b[43mtorch\u001b[49m\u001b[38;5;241;43m.\u001b[39;49m\u001b[43mautograd\u001b[49m\u001b[38;5;241;43m.\u001b[39;49m\u001b[43mbackward\u001b[49m\u001b[43m(\u001b[49m\n\u001b[1;32m    493\u001b[0m \u001b[43m    \u001b[49m\u001b[38;5;28;43mself\u001b[39;49m\u001b[43m,\u001b[49m\u001b[43m \u001b[49m\u001b[43mgradient\u001b[49m\u001b[43m,\u001b[49m\u001b[43m \u001b[49m\u001b[43mretain_graph\u001b[49m\u001b[43m,\u001b[49m\u001b[43m \u001b[49m\u001b[43mcreate_graph\u001b[49m\u001b[43m,\u001b[49m\u001b[43m \u001b[49m\u001b[43minputs\u001b[49m\u001b[38;5;241;43m=\u001b[39;49m\u001b[43minputs\u001b[49m\n\u001b[1;32m    494\u001b[0m \u001b[43m\u001b[49m\u001b[43m)\u001b[49m\n",
      "File \u001b[0;32m~/miniconda3/envs/new_vd/lib/python3.8/site-packages/torch/autograd/__init__.py:251\u001b[0m, in \u001b[0;36mbackward\u001b[0;34m(tensors, grad_tensors, retain_graph, create_graph, grad_variables, inputs)\u001b[0m\n\u001b[1;32m    246\u001b[0m     retain_graph \u001b[38;5;241m=\u001b[39m create_graph\n\u001b[1;32m    248\u001b[0m \u001b[38;5;66;03m# The reason we repeat the same comment below is that\u001b[39;00m\n\u001b[1;32m    249\u001b[0m \u001b[38;5;66;03m# some Python versions print out the first line of a multi-line function\u001b[39;00m\n\u001b[1;32m    250\u001b[0m \u001b[38;5;66;03m# calls in the traceback and some print out the last line\u001b[39;00m\n\u001b[0;32m--> 251\u001b[0m \u001b[43mVariable\u001b[49m\u001b[38;5;241;43m.\u001b[39;49m\u001b[43m_execution_engine\u001b[49m\u001b[38;5;241;43m.\u001b[39;49m\u001b[43mrun_backward\u001b[49m\u001b[43m(\u001b[49m\u001b[43m  \u001b[49m\u001b[38;5;66;43;03m# Calls into the C++ engine to run the backward pass\u001b[39;49;00m\n\u001b[1;32m    252\u001b[0m \u001b[43m    \u001b[49m\u001b[43mtensors\u001b[49m\u001b[43m,\u001b[49m\n\u001b[1;32m    253\u001b[0m \u001b[43m    \u001b[49m\u001b[43mgrad_tensors_\u001b[49m\u001b[43m,\u001b[49m\n\u001b[1;32m    254\u001b[0m \u001b[43m    \u001b[49m\u001b[43mretain_graph\u001b[49m\u001b[43m,\u001b[49m\n\u001b[1;32m    255\u001b[0m \u001b[43m    \u001b[49m\u001b[43mcreate_graph\u001b[49m\u001b[43m,\u001b[49m\n\u001b[1;32m    256\u001b[0m \u001b[43m    \u001b[49m\u001b[43minputs\u001b[49m\u001b[43m,\u001b[49m\n\u001b[1;32m    257\u001b[0m \u001b[43m    \u001b[49m\u001b[43mallow_unreachable\u001b[49m\u001b[38;5;241;43m=\u001b[39;49m\u001b[38;5;28;43;01mTrue\u001b[39;49;00m\u001b[43m,\u001b[49m\n\u001b[1;32m    258\u001b[0m \u001b[43m    \u001b[49m\u001b[43maccumulate_grad\u001b[49m\u001b[38;5;241;43m=\u001b[39;49m\u001b[38;5;28;43;01mTrue\u001b[39;49;00m\u001b[43m,\u001b[49m\n\u001b[1;32m    259\u001b[0m \u001b[43m\u001b[49m\u001b[43m)\u001b[49m\n",
      "\u001b[0;31mKeyboardInterrupt\u001b[0m: "
     ]
    }
   ],
   "source": [
    "if args.convmix:\n",
    "    model = ConvMixer(dim=args.pconv_feature_dim,\n",
    "                    depth=args.mixer_depth,\n",
    "                    kernel_size=args.mixer_kernel_size,\n",
    "                    patch_size=args.pconv_patch_size,\n",
    "                    n_classes=args.num_classes)\n",
    "else:\n",
    "    model = EyeMixer(args)\n",
    "    \n",
    "model = nn.DataParallel(model).cuda()\n",
    "\n",
    "lr_schedule = lambda t: np.interp([t], [0, args.epochs*2//5, args.epochs*4//5, args.epochs], \n",
    "                                  [0, args.lr_max, args.lr_max/20.0, 0])[0]\n",
    "opt = optim.AdamW(model.parameters(), lr=args.lr_max, weight_decay=args.wd)\n",
    "criterion = SetCriterion(args)\n",
    "\n",
    "if args.penalize_cost:\n",
    "    losses_use = ['acc', 'cost']\n",
    "else:\n",
    "    losses_use = ['acc']\n",
    "\n",
    "criterion.update_param(losses=losses_use) \n",
    "\n",
    "scaler = torch.cuda.amp.GradScaler()\n",
    "\n",
    "if args.use_temperature_schedule:\n",
    "    tem_schedule = lambda t: max(5. - 8. * (t/args.epochs), 1.0)\n",
    "else:\n",
    "    tem_schedule = lambda t: 1.\n",
    "    \n",
    "training_info = {'epochs': [], 'train_acc': [], 'test_acc': []}\n",
    "\n",
    "for epoch in range(args.epochs):\n",
    "    start = time.time()\n",
    "    train_loss, train_acc, n = 0, 0, 0\n",
    "    for i, (X, y) in enumerate(trainloader):\n",
    "        model.train()\n",
    "        X, y = X.cuda(), y.cuda()\n",
    "\n",
    "        lr = lr_schedule(epoch + (i + 1)/len(trainloader))\n",
    "        opt.param_groups[0].update(lr=lr)\n",
    "\n",
    "        opt.zero_grad()\n",
    "        with torch.cuda.amp.autocast():\n",
    "            if hasattr(model.module, 'feature_extractor'):\n",
    "                output = model(X, temperature=tem_schedule(epoch))\n",
    "            else:\n",
    "                output = {'pred': model(X)}\n",
    "                \n",
    "            loss = criterion.loss_accuracy(output, y)[f'loss_acc_{args.num_layer-1}']\n",
    "            # loss = criterion(output, y)['total']\n",
    "\n",
    "        scaler.scale(loss).backward()\n",
    "        if args.clip_norm:\n",
    "            scaler.unscale_(opt)\n",
    "            nn.utils.clip_grad_norm_(model.parameters(), 1.0)\n",
    "        scaler.step(opt)\n",
    "        scaler.update()\n",
    "        \n",
    "        train_loss += loss.item() * y.size(0)\n",
    "        train_acc += (output['pred'].max(1)[1] == y).sum().item()\n",
    "        n += y.size(0)\n",
    "        \n",
    "    model.eval()\n",
    "    test_acc, m = 0, 0\n",
    "    with torch.no_grad():\n",
    "        for i, (X, y) in enumerate(testloader):\n",
    "            X, y = X.cuda(), y.cuda()\n",
    "            with torch.cuda.amp.autocast():\n",
    "                output = model(X)\n",
    "            if not isinstance(output, dict):\n",
    "                output = {'pred':output}\n",
    "            test_acc += (output['pred'].max(1)[1] == y).sum().item()\n",
    "            m += y.size(0)\n",
    "\n",
    "    print(f'[{args.name}] Epoch: {epoch} | Train Acc: {train_acc/n:.4f}, Test Acc: {test_acc/m:.4f}, Time: {time.time() - start:.1f}, lr: {lr:.6f}')\n",
    "    print(f'-- train loss: {train_loss}')\n",
    "    \n",
    "    training_info['epochs'].append(epoch)\n",
    "    training_info['train_acc'].append(train_acc/n)\n",
    "    training_info['test_acc'].append(test_acc/m)\n",
    "    info_file = f'{config_path}/{config_name}_train_info.json'\n",
    "    with open(info_file, 'w') as fp:\n",
    "        json.dump(training_info, fp)\n",
    "    \n",
    "# Save checkpoint\n",
    "checkpoint_path = f'{config_path}/{config_name}_{epoch}.pth'\n",
    "torch.save({\n",
    "    'epoch': epoch,\n",
    "    'model_state_dict': model.module.state_dict()\n",
    "}, checkpoint_path)\n",
    "print('CheckPoint File Saved')"
   ]
  },
  {
   "cell_type": "markdown",
   "id": "df76e692-b665-4204-bb44-36fc4e62c991",
   "metadata": {},
   "source": [
    "#### (First Try)\n",
    "* First Round does not work -- TrainAcc even goes down as training heppens here, need visualization to figure out what went wrong. | Training time is just too long, I need to break down, use less Mixing layers and speed up the iteration procesure, maybe only uses EyeFeat for a change here.\n",
    "\n",
    "#### (Design 1) No penalty on Cost\n",
    "* num_layer=2, backpropagate only through accuracy/regression loss, in this case, the discrete selection mechanism will likely be learned to non-masking scenarios. This makes me wonder: What is it that breaks the learning previsouly?\n",
    "* num_layer=3, backpropagate only through accuracy/regression loss, in this case, loss starts to go down a bit, and then go UP (how is that even possible??), feature_dim=16 might have caused the issue, maybe the drop in performance during learning relates to the lack of expressive power.\n",
    "* num_layer=3, shrink the feature_dim to 16, same setup now improves the neural network's performance during training to 60+ accuracy.\n",
    "\n",
    "#### (Round 1 Experimental Design) No penalty on Cost, PatchConv v.s. EyeFeat\n",
    "* One layer Eyemix, due to its obvious equivalence with Convmixer, gives similar performance with the Convmixer, however, 2layer Eyemix immediately shows a slower convergence (at least in 25 epochs, it lag behind in training accuracy here)\n",
    "* Double Layer Eyemix needs some mixing to have good performnace here?\n",
    "\n",
    "* 4layer Eyemix Achieves slightly better performance, compared with 1layer ConvMixer. \n",
    "* Such Slight Improvement is not good enough here, obvisouly !"
   ]
  },
  {
   "cell_type": "code",
   "execution_count": 176,
   "id": "8294df83-8e6f-45b5-b6d0-62a9732daac9",
   "metadata": {
    "tags": []
   },
   "outputs": [
    {
     "name": "stdout",
     "output_type": "stream",
     "text": [
      "Visualization\n"
     ]
    },
    {
     "data": {
      "text/html": [
       "<table class=\"show_images\" style=\"border-spacing:0px;\"><tr><td style=\"padding:1px;\"><div style=\"display:flex; align-items:left;\">\n",
       "      <div style=\"display:flex; flex-direction:column; align-items:center;\">\n",
       "      <div>feature_1</div><div><img width=\"300\" height=\"300\" style=\"image-rendering:pixelated; object-fit:cover;\" src=\"data:image/png;base64,iVBORw0KGgoAAAANSUhEUgAAAAgAAAAICAIAAABLbSncAAAAlElEQVR4nH3BQQqFIBAA0NHNTCBIIBFBXqD7X6QzSKCIJkQZNNbqb/97YhzHYRhyzkqp1lrOOYSAiBIR13W11mqticgYAwDWWkFE0zQJIfq+jzHe901EIQQJAM6553mu65rnOaVUSnnfVyIiM3vvmXnbtq7rUkrnecpSCjPXWvd9b60holIKACT81FqXZfHeH8cBf3xnPlNl2XGVdAAAAABJRU5ErkJggg==\"/></div></div></div></td><td style=\"padding:1px;\"><div style=\"display:flex; align-items:left;\">\n",
       "      <div style=\"display:flex; flex-direction:column; align-items:center;\">\n",
       "      <div>mask_1</div><div><img width=\"300\" height=\"300\" style=\"image-rendering:pixelated; object-fit:cover;\" src=\"data:image/png;base64,iVBORw0KGgoAAAANSUhEUgAAAAEAAAABCAIAAACQd1PeAAAADElEQVR4nGP4//8/AAX+Av4N70a4AAAAAElFTkSuQmCC\"/></div></div></div></td><td style=\"padding:1px;\"><div style=\"display:flex; align-items:left;\">\n",
       "      <div style=\"display:flex; flex-direction:column; align-items:center;\">\n",
       "      <div>prob_1</div><div><img width=\"300\" height=\"300\" style=\"image-rendering:pixelated; object-fit:cover;\" src=\"data:image/png;base64,iVBORw0KGgoAAAANSUhEUgAAAAEAAAABCAIAAACQd1PeAAAADElEQVR4nGP4//8/AAX+Av4N70a4AAAAAElFTkSuQmCC\"/></div></div></div></td><td style=\"padding:1px;\"><div style=\"display:flex; align-items:left;\">\n",
       "      <div style=\"display:flex; flex-direction:column; align-items:center;\">\n",
       "      <div>residual_1</div><div><img width=\"300\" height=\"300\" style=\"image-rendering:pixelated; object-fit:cover;\" src=\"data:image/png;base64,iVBORw0KGgoAAAANSUhEUgAAAAgAAAAICAIAAABLbSncAAAAlUlEQVR4nCXNQQ6EIAxAUWjF2oXsvIL3PxmJEQO0lM5itj95+fG+byJSVUQMIYjI931EBABQSmHmlBIi/hMzwxgj5zzGcHdVVdXzPHvvEEJora21zIyZRURVQwgAAO7+F713RBxjzDm353m2bYsx/h8AkFIqpUCt1czmnGaWc26tve/r7pGIruuqte77LiLHcay1EPEH/pFi7Z3dVRgAAAAASUVORK5CYII=\"/></div></div></div></td><td style=\"padding:1px;\"><div style=\"display:flex; align-items:left;\">\n",
       "      <div style=\"display:flex; flex-direction:column; align-items:center;\">\n",
       "      <div>bird</div><div><img width=\"300\" height=\"300\" style=\"image-rendering:pixelated; object-fit:cover;\" src=\"data:image/png;base64,iVBORw0KGgoAAAANSUhEUgAAACAAAAAgCAIAAAD8GO2jAAAB40lEQVR4nO2Tz2oTQRzHP7EDmZIp2ZIsSZqGGulaiyRQlB4Ei+Qg+AIiXrx56dU30KcR9BF8ASEBL2pj3GoSYkiW7JINTGCCXmxKbWM3SkAkn9PM8P39Psw/WLJkyb+FePbi1b2DBwtVbC2y+5Lf45RXnArsnMwV5C8pUQAiqsCIifvm51jupJxrxpjAFegvF4QlaAjBji5wqwBkkqWyFFKtJbQeB7aiGYPvv4b1yWAzuoDYSqG0XcwLKY+bXbFqHGfLpzvqgJldVONKZEHcsqRCtNyGMUE6LaTkhpPBTs08ZwVP5tiB9vVIC3P34I6VTVnrSX8QGF8nshujThzaF1Tsc+vpHAKRLm5Yufx26freXllr3et5qp90Xa9R805TRShAFTQ0CfvRBbalcin7akZaCWP0MAwAIYSlEigIAcjBY7BBgQs+H19HFwz735pHaTmRhEKMtQ5DPW657b5/dHrLA6jDMfjgQ4W4E12gGdWqn4TRxhfrGDNx3caH91+DToNQTzO8BBsGcJ9Hz9Xt4mH0O4AB3tt3XlO1hl25Ktr1z9R9emczEjYhC7sYJddIxuYQTFGgZzx/BfsQwgAq3Hz4J+3PYp9bmR6KhMM5PtoMeudWpjvbhdzftr+MwqIF/wM/AELeowvAqRyyAAAAAElFTkSuQmCC\"/></div></div></div></td></tr></table>"
      ],
      "text/plain": [
       "<IPython.core.display.HTML object>"
      ]
     },
     "metadata": {},
     "output_type": "display_data"
    },
    {
     "data": {
      "text/html": [
       "<table class=\"show_images\" style=\"border-spacing:0px;\"><tr><td style=\"padding:1px;\"><div style=\"display:flex; align-items:left;\">\n",
       "      <div style=\"display:flex; flex-direction:column; align-items:center;\">\n",
       "      <div>feature_2</div><div><img width=\"300\" height=\"300\" style=\"image-rendering:pixelated; object-fit:cover;\" src=\"data:image/png;base64,iVBORw0KGgoAAAANSUhEUgAAABAAAAAQCAIAAACQkWg2AAACpElEQVR4nGWOTUsqARhG37FrMGUS6SRBEUkfEDSuCqcPikgwk1KCiHAzSgtl2hQqgUO7FkW/IWoRFJGrqNkkJEOM2SIwMEMkCIZiwCiGHJN57yJu9146q2dxDjyE0Wh0OBx7e3v9/f26rudyOZqmQ6EQz/MsyzIMU61Wi8WiqqqLi4udnZ0EADQ3N5fLZQAAgMvLy2QyubS0FI/HrVarz+cTRbGvr0+WZU3THA4HQRBEOBxua2sTBIGiKEVRxsbGRFGkabqhoSGfz2uaRlFUrVa7vr52uVxENBq9v78/Ozv7/Pzc2Ngol8tHR0eyLGez2dvb20KhcHd3NzU1JUlSOp3+PgKNjY0TExM0TQOAKIoAUCwWPR7P0NDQ5ubm/v4+wzAkSZrNZgAAs9m8tbVVKpVisdhXg4irq6utra0AYLPZEolES0sLfOP3++fm5lwulyAITqdzZ2cHAAqFAiJ+CSRJ/rWHh4dfXl4ikUgwGHQ6nfPz86qqIuLKysrV1RUichzX29srSVIymUREQESTyeT1ekmS7Orqslgsg4ODoVAI/6Bp2sLCwvj4uCzLh4eHvzo6Onief3x8zGQyiUTCYDCcnJwAwMXFxeTkJAA8PT0NDAyUSiWe51VVBbfbHY1GAUBRFJvNdnNzgz8IBAKCIKytrSEirK+vW63Wt7e3TCazvLzMsuzP4PT0FBHf398BwPD6+jo6Onp+fp7L5YLB4O7uLvzPw8NDKpUCAJPJhIgGkiTtdrssy/l8vr29/eDggGXZf4Oenp7t7e2v7fF4CLvd3t3dfXx83NTU5PP5Zmdnp6enOY5Lp9PVanVmZkZRlJGRkbq6OqPRGIvFCACIx+OSJDEM8/Hx4ff7K5WKruvhcJjjOIvFQlHU8/NzIBCor68HgN+l5GMaN2bBCAAAAABJRU5ErkJggg==\"/></div></div></div></td><td style=\"padding:1px;\"><div style=\"display:flex; align-items:left;\">\n",
       "      <div style=\"display:flex; flex-direction:column; align-items:center;\">\n",
       "      <div>mask_2</div><div><img width=\"300\" height=\"300\" style=\"image-rendering:pixelated; object-fit:cover;\" src=\"data:image/png;base64,iVBORw0KGgoAAAANSUhEUgAAAAIAAAACCAIAAAD91JpzAAAAFklEQVR4nGP8//8/AwMDEwMDAwMDAwAkBgMB/DXemwAAAABJRU5ErkJggg==\"/></div></div></div></td><td style=\"padding:1px;\"><div style=\"display:flex; align-items:left;\">\n",
       "      <div style=\"display:flex; flex-direction:column; align-items:center;\">\n",
       "      <div>prob_2</div><div><img width=\"300\" height=\"300\" style=\"image-rendering:pixelated; object-fit:cover;\" src=\"data:image/png;base64,iVBORw0KGgoAAAANSUhEUgAAAAIAAAACCAIAAAD91JpzAAAAFklEQVR4nGP8//8/AwMDEwMDAwMDAwAkBgMB/DXemwAAAABJRU5ErkJggg==\"/></div></div></div></td><td style=\"padding:1px;\"><div style=\"display:flex; align-items:left;\">\n",
       "      <div style=\"display:flex; flex-direction:column; align-items:center;\">\n",
       "      <div>residual_2</div><div><img width=\"300\" height=\"300\" style=\"image-rendering:pixelated; object-fit:cover;\" src=\"data:image/png;base64,iVBORw0KGgoAAAANSUhEUgAAABAAAAAQCAIAAACQkWg2AAACFklEQVR4nC2SzW4qOxCE3e1/m2GASCFsIrHKJu+TR85rHCkLFEUw0uDBxmO378J3391V/VWB1loIsdlsXl9fp2mqtWqtb7eb936eZ6UUY4wx1lpTSnHOkYhqrUqp2+0GAEQ0TZO1dp5nRBRC9FEhRCml1gpKKWutUirnXEohIinluq5SSgCotfYFxlhKSSmFzjkiWpbl+XwKIYQQKaW3tzdjDOeccw4AUsruKsaIMcacc62Vc76u6+PxGMfx5+eHc941lVJElHNmjHHOkTGGiN777XarlNJaX6/Xr6+vGGMppZ+otZZSGGNE9P8PXdEYsyyLUiqEsN/vvfeXy6WUIoQgIgAopcAwDLvdLoTAGMs5I+IwDJ+fn9/f38YY59z9fk8pjeNIRNZaOJ/Pl8tFa92nW2uMMSHE8XgEAAB4PB4hhFrrOI7ruoJzzlrbWrPWdp39fq+1nqZJa+2cCyE8n8+cc88EO75lWYQQtdZhGGqtRHQ6nY7Ho9b65eWllOKck1IeDgcUQsQYT6dTL0WMUUrpve9MlFIAYIx5f3/33v/+/iIiWmt7FM65lBLnvJfFWktE1+u11jpNEyJ+fHwgAHDOe6MQcRzHv7+/Tj2llHO21p7PZ0RkjP379w8OhwPn3FrLOZ/nWWstpbzf771FPYFurLW22WzAObfb7ZZlkVIiotaaiBhjIQTnXGutszbGbLfbdV3/AwpjS7G56ihpAAAAAElFTkSuQmCC\"/></div></div></div></td><td style=\"padding:1px;\"><div style=\"display:flex; align-items:left;\">\n",
       "      <div style=\"display:flex; flex-direction:column; align-items:center;\">\n",
       "      <div>bird</div><div><img width=\"300\" height=\"300\" style=\"image-rendering:pixelated; object-fit:cover;\" src=\"data:image/png;base64,iVBORw0KGgoAAAANSUhEUgAAACAAAAAgCAIAAAD8GO2jAAAB40lEQVR4nO2Tz2oTQRzHP7EDmZIp2ZIsSZqGGulaiyRQlB4Ei+Qg+AIiXrx56dU30KcR9BF8ASEBL2pj3GoSYkiW7JINTGCCXmxKbWM3SkAkn9PM8P39Psw/WLJkyb+FePbi1b2DBwtVbC2y+5Lf45RXnArsnMwV5C8pUQAiqsCIifvm51jupJxrxpjAFegvF4QlaAjBji5wqwBkkqWyFFKtJbQeB7aiGYPvv4b1yWAzuoDYSqG0XcwLKY+bXbFqHGfLpzvqgJldVONKZEHcsqRCtNyGMUE6LaTkhpPBTs08ZwVP5tiB9vVIC3P34I6VTVnrSX8QGF8nshujThzaF1Tsc+vpHAKRLm5Yufx26freXllr3et5qp90Xa9R805TRShAFTQ0CfvRBbalcin7akZaCWP0MAwAIYSlEigIAcjBY7BBgQs+H19HFwz735pHaTmRhEKMtQ5DPW657b5/dHrLA6jDMfjgQ4W4E12gGdWqn4TRxhfrGDNx3caH91+DToNQTzO8BBsGcJ9Hz9Xt4mH0O4AB3tt3XlO1hl25Ktr1z9R9emczEjYhC7sYJddIxuYQTFGgZzx/BfsQwgAq3Hz4J+3PYp9bmR6KhMM5PtoMeudWpjvbhdzftr+MwqIF/wM/AELeowvAqRyyAAAAAElFTkSuQmCC\"/></div></div></div></td></tr></table>"
      ],
      "text/plain": [
       "<IPython.core.display.HTML object>"
      ]
     },
     "metadata": {},
     "output_type": "display_data"
    }
   ],
   "source": [
    "# Visualization\n",
    "print('Visualization')\n",
    "\n",
    "idx = np.random.choice(len(testset))\n",
    "ch_idx = np.random.choice(args.pconv_feature_dim)\n",
    "img, label = testset[idx]\n",
    "res = model(img.unsqueeze(0).cuda())\n",
    "for layer in range(1, args.num_layer):\n",
    "    d = {f'feature_{layer}': res[f'feature_{layer}'][0][ch_idx].cpu().detach().numpy(),\n",
    "         f'mask_{layer}': res[f'mask_{layer}'][0].squeeze(0).cpu().detach().numpy(),\n",
    "         f'prob_{layer}': res[f'prob_{layer}'][0].squeeze(0).cpu().detach().numpy(),\n",
    "         f'residual_{layer}': normalize(res[f'residual_{layer}'])[0][ch_idx].squeeze().cpu().detach().numpy(),\n",
    "         f'{cifar10_label_to_name[label]}': img.permute(1,2,0)\n",
    "        }\n",
    "    media.show_images(d, height=300, vmin=0., vmax=1.)  "
   ]
  },
  {
   "cell_type": "code",
   "execution_count": null,
   "id": "b8a1982b-7eb9-41c7-8c1b-8eca18995865",
   "metadata": {},
   "outputs": [],
   "source": []
  },
  {
   "cell_type": "code",
   "execution_count": null,
   "id": "a60f2815-5d9b-443d-ae7d-074a5da1bdac",
   "metadata": {},
   "outputs": [],
   "source": []
  },
  {
   "cell_type": "code",
   "execution_count": null,
   "id": "4a87ce7d-16ae-43a9-a7fb-001ea3d1b3b5",
   "metadata": {},
   "outputs": [],
   "source": []
  },
  {
   "cell_type": "code",
   "execution_count": null,
   "id": "4f193c77-40d9-4e75-bd89-b1b04b16c1cc",
   "metadata": {},
   "outputs": [],
   "source": []
  }
 ],
 "metadata": {
  "kernelspec": {
   "display_name": "newVid",
   "language": "python",
   "name": "new_vd"
  },
  "language_info": {
   "codemirror_mode": {
    "name": "ipython",
    "version": 3
   },
   "file_extension": ".py",
   "mimetype": "text/x-python",
   "name": "python",
   "nbconvert_exporter": "python",
   "pygments_lexer": "ipython3",
   "version": "3.8.17"
  }
 },
 "nbformat": 4,
 "nbformat_minor": 5
}
